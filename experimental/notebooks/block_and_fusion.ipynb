{
 "cells": [
  {
   "cell_type": "code",
   "execution_count": 1,
   "metadata": {},
   "outputs": [],
   "source": [
    "%matplotlib inline\n",
    "%load_ext autoreload\n",
    "%autoreload 2"
   ]
  },
  {
   "cell_type": "code",
   "execution_count": 2,
   "metadata": {},
   "outputs": [],
   "source": [
    "import numpy as np\n",
    "\n",
    "from net import RESNET50_BLOCK, MOBILENET_V1_BLOCK, MOBILENET_V2_BLOCK\n",
    "from layer import BottleneckBlock, MatmulLayer, ConvLayer, ConvBlock"
   ]
  },
  {
   "cell_type": "code",
   "execution_count": 3,
   "metadata": {},
   "outputs": [],
   "source": [
    "def stat(net):\n",
    "    result = {\n",
    "        'Block': np.array([0., 0.]),\n",
    "        'Conv': np.array([0., 0.]),\n",
    "        'FC': np.array([0., 0.])\n",
    "    }\n",
    "    \n",
    "    for l in net.layers:\n",
    "        if isinstance(l, ConvBlock):\n",
    "            result['Block'] += np.array([l.num_ops, l.num_params])\n",
    "        elif isinstance(l, ConvLayer):\n",
    "            result['Conv'] += np.array([l.num_ops, l.num_params])\n",
    "        elif isinstance(l, MatmulLayer):\n",
    "            result['FC'] += np.array([l.num_ops, l.num_params])\n",
    "    return result"
   ]
  },
  {
   "cell_type": "markdown",
   "metadata": {},
   "source": [
    "## ResNet-50 Blocks"
   ]
  },
  {
   "cell_type": "code",
   "execution_count": 4,
   "metadata": {},
   "outputs": [
    {
     "data": {
      "text/plain": [
       "               conv1: <224, 224,    3,   64, 7,   standard>   0.238140   0.009408\n",
       "         res2a/conv1: < 56,  56,   64,   64, 1,  pointwise>\n",
       "         res2a/conv2: < 56,  56,   64,   64, 3,   standard>\n",
       "         res2a/conv3: < 56,  56,   64,  256, 1,  pointwise>\n",
       "      res2a/shortcut: < 56,  56,   64,  256, 1,  pointwise>   0.462422   0.073728\n",
       "         res2b/conv1: < 56,  56,  256,   64, 1,  pointwise>\n",
       "         res2b/conv2: < 56,  56,   64,   64, 3,   standard>\n",
       "         res2b/conv3: < 56,  56,   64,  256, 1,  pointwise>   0.436732   0.069632\n",
       "         res2c/conv1: < 56,  56,  256,   64, 1,  pointwise>\n",
       "         res2c/conv2: < 56,  56,   64,   64, 3,   standard>\n",
       "         res2c/conv3: < 56,  56,   64,  256, 1,  pointwise>   0.436732   0.069632\n",
       "         res3a/conv1: < 56,  56,  256,  128, 1,  pointwise>\n",
       "         res3a/conv2: < 28,  28,  128,  128, 3,   standard>\n",
       "         res3a/conv3: < 28,  28,  128,  512, 1,  pointwise>\n",
       "      res3a/shortcut: < 56,  56,  256,  512, 1,  pointwise>   0.590873   0.376832\n",
       "         res3b/conv1: < 28,  28,  512,  128, 1,  pointwise>\n",
       "         res3b/conv2: < 28,  28,  128,  128, 3,   standard>\n",
       "         res3b/conv3: < 28,  28,  128,  512, 1,  pointwise>   0.436732   0.278528\n",
       "         res3c/conv1: < 28,  28,  512,  128, 1,  pointwise>\n",
       "         res3c/conv2: < 28,  28,  128,  128, 3,   standard>\n",
       "         res3c/conv3: < 28,  28,  128,  512, 1,  pointwise>   0.436732   0.278528\n",
       "         res3d/conv1: < 28,  28,  512,  128, 1,  pointwise>\n",
       "         res3d/conv2: < 28,  28,  128,  128, 3,   standard>\n",
       "         res3d/conv3: < 28,  28,  128,  512, 1,  pointwise>   0.436732   0.278528\n",
       "         res4a/conv1: < 28,  28,  512,  256, 1,  pointwise>\n",
       "         res4a/conv2: < 14,  14,  256,  256, 3,   standard>\n",
       "         res4a/conv3: < 14,  14,  256, 1024, 1,  pointwise>\n",
       "      res4a/shortcut: < 28,  28,  512, 1024, 1,  pointwise>   0.590873   1.507328\n",
       "         res4b/conv1: < 14,  14, 1024,  256, 1,  pointwise>\n",
       "         res4b/conv2: < 14,  14,  256,  256, 3,   standard>\n",
       "         res4b/conv3: < 14,  14,  256, 1024, 1,  pointwise>   0.436732   1.114112\n",
       "         res4c/conv1: < 14,  14, 1024,  256, 1,  pointwise>\n",
       "         res4c/conv2: < 14,  14,  256,  256, 3,   standard>\n",
       "         res4c/conv3: < 14,  14,  256, 1024, 1,  pointwise>   0.436732   1.114112\n",
       "         res4d/conv1: < 14,  14, 1024,  256, 1,  pointwise>\n",
       "         res4d/conv2: < 14,  14,  256,  256, 3,   standard>\n",
       "         res4d/conv3: < 14,  14,  256, 1024, 1,  pointwise>   0.436732   1.114112\n",
       "         res4e/conv1: < 14,  14, 1024,  256, 1,  pointwise>\n",
       "         res4e/conv2: < 14,  14,  256,  256, 3,   standard>\n",
       "         res4e/conv3: < 14,  14,  256, 1024, 1,  pointwise>   0.436732   1.114112\n",
       "         res4f/conv1: < 14,  14, 1024,  256, 1,  pointwise>\n",
       "         res4f/conv2: < 14,  14,  256,  256, 3,   standard>\n",
       "         res4f/conv3: < 14,  14,  256, 1024, 1,  pointwise>   0.436732   1.114112\n",
       "         res5a/conv1: < 14,  14, 1024,  512, 1,  pointwise>\n",
       "         res5a/conv2: <  7,   7,  512,  512, 3,   standard>\n",
       "         res5a/conv3: <  7,   7,  512, 2048, 1,  pointwise>\n",
       "      res5a/shortcut: < 14,  14, 1024, 2048, 1,  pointwise>   0.590873   6.029312\n",
       "         res5b/conv1: <  7,   7, 2048,  512, 1,  pointwise>\n",
       "         res5b/conv2: <  7,   7,  512,  512, 3,   standard>\n",
       "         res5b/conv3: <  7,   7,  512, 2048, 1,  pointwise>   0.436732   4.456448\n",
       "         res5c/conv1: <  7,   7, 2048,  512, 1,  pointwise>\n",
       "         res5c/conv2: <  7,   7,  512,  512, 3,   standard>\n",
       "         res5c/conv3: <  7,   7,  512, 2048, 1,  pointwise>   0.436732   4.456448\n",
       "                  fc: <2048, 1000>   0.004096   2.048000"
      ]
     },
     "execution_count": 4,
     "metadata": {},
     "output_type": "execute_result"
    }
   ],
   "source": [
    "RESNET50_BLOCK"
   ]
  },
  {
   "cell_type": "code",
   "execution_count": 5,
   "metadata": {},
   "outputs": [
    {
     "data": {
      "text/plain": [
       "(7.718058592, 25502912)"
      ]
     },
     "execution_count": 5,
     "metadata": {},
     "output_type": "execute_result"
    }
   ],
   "source": [
    "RESNET50_BLOCK.num_ops * 1e-9, RESNET50_BLOCK.num_params"
   ]
  },
  {
   "cell_type": "markdown",
   "metadata": {},
   "source": [
    "## MobileNet V1"
   ]
  },
  {
   "cell_type": "code",
   "execution_count": 6,
   "metadata": {},
   "outputs": [
    {
     "data": {
      "text/plain": [
       "               conv0: <224, 224,    3,   32, 3,   standard>   0.021870   0.000864\n",
       "     conv1/depthwise: <112, 112,   32,   32, 3,  depthwise>\n",
       "     conv1/pointwise: <112, 112,   32,   64, 1,  pointwise>   0.058606   0.002336\n",
       "     conv2/depthwise: <112, 112,   64,   64, 3,  depthwise>\n",
       "     conv2/pointwise: < 56,  56,   64,  128, 1,  pointwise>   0.055058   0.008768\n",
       "     conv3/depthwise: < 56,  56,  128,  128, 3,  depthwise>\n",
       "     conv3/pointwise: < 56,  56,  128,  128, 1,  pointwise>   0.109986   0.017536\n",
       "     conv4/depthwise: < 56,  56,  128,  128, 3,  depthwise>\n",
       "     conv4/pointwise: < 28,  28,  128,  256, 1,  pointwise>   0.053252   0.033920\n",
       "     conv5/depthwise: < 28,  28,  256,  256, 3,  depthwise>\n",
       "     conv5/pointwise: < 28,  28,  256,  256, 1,  pointwise>   0.106373   0.067840\n",
       "     conv6/depthwise: < 28,  28,  256,  256, 3,  depthwise>\n",
       "     conv6/pointwise: < 14,  14,  256,  512, 1,  pointwise>   0.052349   0.133376\n",
       "     conv7/depthwise: < 14,  14,  512,  512, 3,  depthwise>\n",
       "     conv7/pointwise: < 14,  14,  512,  512, 1,  pointwise>   0.104567   0.266752\n",
       "     conv8/depthwise: < 14,  14,  512,  512, 3,  depthwise>\n",
       "     conv8/pointwise: < 14,  14,  512,  512, 1,  pointwise>   0.104567   0.266752\n",
       "     conv9/depthwise: < 14,  14,  512,  512, 3,  depthwise>\n",
       "     conv9/pointwise: < 14,  14,  512,  512, 1,  pointwise>   0.104567   0.266752\n",
       "    conv10/depthwise: < 14,  14,  512,  512, 3,  depthwise>\n",
       "    conv10/pointwise: < 14,  14,  512,  512, 1,  pointwise>   0.104567   0.266752\n",
       "    conv11/depthwise: < 14,  14,  512,  512, 3,  depthwise>\n",
       "    conv11/pointwise: < 14,  14,  512,  512, 1,  pointwise>   0.104567   0.266752\n",
       "    conv12/depthwise: < 14,  14,  512,  512, 3,  depthwise>\n",
       "    conv12/pointwise: <  7,   7,  512, 1024, 1,  pointwise>   0.051899   0.528896\n",
       "    conv13/depthwise: <  7,   7, 1024, 1024, 3,  depthwise>\n",
       "    conv13/pointwise: <  7,   7, 1024, 1024, 1,  pointwise>   0.103664   1.057792\n",
       "                  fc: <1024, 1000>   0.002048   1.024000"
      ]
     },
     "execution_count": 6,
     "metadata": {},
     "output_type": "execute_result"
    }
   ],
   "source": [
    "MOBILENET_V1_BLOCK"
   ]
  },
  {
   "cell_type": "code",
   "execution_count": 7,
   "metadata": {},
   "outputs": [
    {
     "data": {
      "text/plain": [
       "4209088"
      ]
     },
     "execution_count": 7,
     "metadata": {},
     "output_type": "execute_result"
    }
   ],
   "source": [
    "MOBILENET_V1_BLOCK.num_params"
   ]
  },
  {
   "cell_type": "code",
   "execution_count": 8,
   "metadata": {},
   "outputs": [
    {
     "data": {
      "text/plain": [
       "{'Block': array([1.11401904e+09, 3.18422400e+06]),\n",
       " 'Conv': array([2.187e+07, 8.640e+02]),\n",
       " 'FC': array([2048000., 1024000.])}"
      ]
     },
     "execution_count": 8,
     "metadata": {},
     "output_type": "execute_result"
    }
   ],
   "source": [
    "stat(MOBILENET_V1_BLOCK)"
   ]
  },
  {
   "cell_type": "markdown",
   "metadata": {},
   "source": [
    "## MobileNet V2"
   ]
  },
  {
   "cell_type": "code",
   "execution_count": 9,
   "metadata": {},
   "outputs": [
    {
     "data": {
      "text/plain": [
       "               conv0: <224, 224,    3,   32, 3,   standard>   0.021870   0.000864\n",
       "   expand_conv/conv1: <112, 112,   32,   32, 1,  pointwise>\n",
       "   expand_conv/conv2: <112, 112,   32,   32, 3,  depthwise>\n",
       "   expand_conv/conv3: <112, 112,   32,   16, 1,  pointwise>   0.045761   0.001824\n",
       " expand_conv_1/conv1: <112, 112,   16,   96, 1,  pointwise>\n",
       " expand_conv_1/conv2: <112, 112,   96,   96, 3,  depthwise>\n",
       " expand_conv_1/conv3: < 56,  56,   96,   24, 1,  pointwise>   0.058502   0.004704\n",
       " expand_conv_2/conv1: < 56,  56,   24,   96, 1,  pointwise>\n",
       " expand_conv_2/conv2: < 56,  56,   96,   96, 3,  depthwise>\n",
       " expand_conv_2/conv3: < 56,  56,   96,   24, 1,  pointwise>   0.034320   0.005472\n",
       " expand_conv_3/conv1: < 56,  56,   24,  144, 1,  pointwise>\n",
       " expand_conv_3/conv2: < 56,  56,  144,  144, 3,  depthwise>\n",
       " expand_conv_3/conv3: < 28,  28,  144,   32, 1,  pointwise>   0.031007   0.009360\n",
       " expand_conv_4/conv1: < 28,  28,   32,  192, 1,  pointwise>\n",
       " expand_conv_4/conv2: < 28,  28,  192,  192, 3,  depthwise>\n",
       " expand_conv_4/conv3: < 28,  28,  192,   32, 1,  pointwise>   0.021977   0.014016\n",
       " expand_conv_5/conv1: < 28,  28,   32,  192, 1,  pointwise>\n",
       " expand_conv_5/conv2: < 28,  28,  192,  192, 3,  depthwise>\n",
       " expand_conv_5/conv3: < 28,  28,  192,   32, 1,  pointwise>   0.021977   0.014016\n",
       " expand_conv_6/conv1: < 28,  28,   32,  192, 1,  pointwise>\n",
       " expand_conv_6/conv2: < 28,  28,  192,  192, 3,  depthwise>\n",
       " expand_conv_6/conv3: < 14,  14,  192,   64, 1,  pointwise>   0.015177   0.020160\n",
       " expand_conv_7/conv1: < 14,  14,   64,  384, 1,  pointwise>\n",
       " expand_conv_7/conv2: < 14,  14,  384,  384, 3,  depthwise>\n",
       " expand_conv_7/conv3: < 14,  14,  384,   64, 1,  pointwise>   0.020622   0.052608\n",
       " expand_conv_8/conv1: < 14,  14,   64,  384, 1,  pointwise>\n",
       " expand_conv_8/conv2: < 14,  14,  384,  384, 3,  depthwise>\n",
       " expand_conv_8/conv3: < 14,  14,  384,   64, 1,  pointwise>   0.020622   0.052608\n",
       " expand_conv_9/conv1: < 14,  14,   64,  384, 1,  pointwise>\n",
       " expand_conv_9/conv2: < 14,  14,  384,  384, 3,  depthwise>\n",
       " expand_conv_9/conv3: < 14,  14,  384,   64, 1,  pointwise>   0.020622   0.052608\n",
       "expand_conv_10/conv1: < 14,  14,   64,  384, 1,  pointwise>\n",
       "expand_conv_10/conv2: < 14,  14,  384,  384, 3,  depthwise>\n",
       "expand_conv_10/conv3: < 14,  14,  384,   96, 1,  pointwise>   0.025439   0.064896\n",
       "expand_conv_11/conv1: < 14,  14,   96,  576, 1,  pointwise>\n",
       "expand_conv_11/conv2: < 14,  14,  576,  576, 3,  depthwise>\n",
       "expand_conv_11/conv3: < 14,  14,  576,   96, 1,  pointwise>   0.045384   0.115776\n",
       "expand_conv_12/conv1: < 14,  14,   96,  576, 1,  pointwise>\n",
       "expand_conv_12/conv2: < 14,  14,  576,  576, 3,  depthwise>\n",
       "expand_conv_12/conv3: < 14,  14,  576,   96, 1,  pointwise>   0.045384   0.115776\n",
       "expand_conv_13/conv1: < 14,  14,   96,  576, 1,  pointwise>\n",
       "expand_conv_13/conv2: < 14,  14,  576,  576, 3,  depthwise>\n",
       "expand_conv_13/conv3: <  7,   7,  576,  160, 1,  pointwise>   0.031291   0.152640\n",
       "expand_conv_14/conv1: <  7,   7,  160,  960, 1,  pointwise>\n",
       "expand_conv_14/conv2: <  7,   7,  960,  960, 3,  depthwise>\n",
       "expand_conv_14/conv3: <  7,   7,  960,  160, 1,  pointwise>   0.030952   0.315840\n",
       "expand_conv_15/conv1: <  7,   7,  160,  960, 1,  pointwise>\n",
       "expand_conv_15/conv2: <  7,   7,  960,  960, 3,  depthwise>\n",
       "expand_conv_15/conv3: <  7,   7,  960,  160, 1,  pointwise>   0.030952   0.315840\n",
       "expand_conv_16/conv1: <  7,   7,  160,  960, 1,  pointwise>\n",
       "expand_conv_16/conv2: <  7,   7,  960,  960, 3,  depthwise>\n",
       "expand_conv_16/conv3: <  7,   7,  960,  320, 1,  pointwise>   0.046005   0.469440\n",
       "               conv1: <  7,   7,  320, 1280, 1,  pointwise>   0.040141   0.409600\n",
       "                  fc: <1280, 1000>   0.002560   1.280000"
      ]
     },
     "execution_count": 9,
     "metadata": {},
     "output_type": "execute_result"
    }
   ],
   "source": [
    "MOBILENET_V2_BLOCK"
   ]
  },
  {
   "cell_type": "code",
   "execution_count": 10,
   "metadata": {},
   "outputs": [
    {
     "data": {
      "text/plain": [
       "(0.610567272, 3468048)"
      ]
     },
     "execution_count": 10,
     "metadata": {},
     "output_type": "execute_result"
    }
   ],
   "source": [
    "MOBILENET_V2_BLOCK.num_ops * 1e-9, MOBILENET_V2_BLOCK.num_params"
   ]
  },
  {
   "cell_type": "code",
   "execution_count": 11,
   "metadata": {},
   "outputs": [
    {
     "data": {
      "text/plain": [
       "{'Block': array([5.45996472e+08, 1.77758400e+06]),\n",
       " 'Conv': array([62010800.,   410464.]),\n",
       " 'FC': array([2560000., 1280000.])}"
      ]
     },
     "execution_count": 11,
     "metadata": {},
     "output_type": "execute_result"
    }
   ],
   "source": [
    "stat(MOBILENET_V2_BLOCK)"
   ]
  },
  {
   "cell_type": "code",
   "execution_count": null,
   "metadata": {},
   "outputs": [],
   "source": []
  }
 ],
 "metadata": {
  "kernelspec": {
   "display_name": "Python 3",
   "language": "python",
   "name": "python3"
  },
  "language_info": {
   "codemirror_mode": {
    "name": "ipython",
    "version": 3
   },
   "file_extension": ".py",
   "mimetype": "text/x-python",
   "name": "python",
   "nbconvert_exporter": "python",
   "pygments_lexer": "ipython3",
   "version": "3.6.3"
  }
 },
 "nbformat": 4,
 "nbformat_minor": 2
}
