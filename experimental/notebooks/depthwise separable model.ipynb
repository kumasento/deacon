{
 "cells": [
  {
   "cell_type": "markdown",
   "metadata": {},
   "source": [
    "# Depthwise Separable Model\n",
    "\n",
    "This notebook tries to decide which architecture is the most suitable for a depthwise separable layer on FPGA."
   ]
  },
  {
   "cell_type": "code",
   "execution_count": 1,
   "metadata": {},
   "outputs": [],
   "source": [
    "%matplotlib inline\n",
    "%load_ext autoreload\n",
    "%autoreload 2"
   ]
  },
  {
   "cell_type": "code",
   "execution_count": 7,
   "metadata": {},
   "outputs": [],
   "source": [
    "import numpy as np\n",
    "import matplotlib.pyplot as plt\n",
    "import itertools"
   ]
  },
  {
   "cell_type": "markdown",
   "metadata": {},
   "source": [
    "## Design Models"
   ]
  },
  {
   "cell_type": "code",
   "execution_count": 73,
   "metadata": {},
   "outputs": [],
   "source": [
    "class DesignModel(object):\n",
    "    def __init__(self, tile_height, tile_width, tile_in_depth, tile_out_depth, kernel_size):\n",
    "        self.T_H = tile_height\n",
    "        self.T_W = tile_width\n",
    "        self.T_ID = tile_in_depth\n",
    "        self.T_OD = tile_out_depth\n",
    "        self.K = kernel_size\n",
    "        self.T_IH = self.T_H - self.K + 1\n",
    "        self.T_IW = self.T_W - self.K + 1\n",
    "\n",
    "class PipelineDesignModel(DesignModel):\n",
    "    def __init__(self, T_H, T_W, T_ID, T_OD, K):\n",
    "        super().__init__(T_H, T_W, T_ID, T_OD, K)\n",
    "        \n",
    "    def num_cycles(self, P_W, P_ID, P_OD):\n",
    "        return (self.T_ID /P_ID * \n",
    "                (self.T_IH * self.T_IW / P_W +\n",
    "                 self.T_IH * self.T_IW / P_W * (self.T_OD / P_OD - 1)))\n",
    "    \n",
    "    def num_mults(self, P_W, P_ID, P_OD):\n",
    "        return (P_ID * P_W * K * K +\n",
    "                P_ID * P_OD)\n",
    "\n",
    "class TimeMuxDesignModel(DesignModel):\n",
    "    def num_cycles(self, P_W0, P_ID0, P_W1, P_ID1, P_OD):\n",
    "        return ((self.T_ID / P_ID0 * self.T_IH * self.T_IW / P_W0) +\n",
    "                (self.T_ID / P_ID1 * self.T_H * self.T_W / P_W1 * self.T_OD / P_OD))\n",
    "    \n",
    "    def num_mults(self, P_W0, P_ID0, P_W1, P_ID1, P_OD):\n",
    "        return max(P_W0 * P_ID0 * self.K * self.K,\n",
    "                   P_ID1 * P_W1 * P_OD)"
   ]
  },
  {
   "cell_type": "code",
   "execution_count": 74,
   "metadata": {},
   "outputs": [],
   "source": [
    "# constants\n",
    "T_H = 32\n",
    "T_W = 32\n",
    "T_ID = 32\n",
    "T_OD = 32\n",
    "K = 3"
   ]
  },
  {
   "cell_type": "code",
   "execution_count": 75,
   "metadata": {},
   "outputs": [],
   "source": [
    "ppl = PipelineDesignModel(T_H, T_W, T_ID, T_OD, K)\n",
    "tmx = TimeMuxDesignModel(T_H, T_W, T_ID, T_OD, K)"
   ]
  },
  {
   "cell_type": "markdown",
   "metadata": {},
   "source": [
    "## Explore Multipliers / Performance\n",
    "\n",
    "This evaluation result shows that a pipelined design is a better choice, comparing with the time-multiplexed version."
   ]
  },
  {
   "cell_type": "code",
   "execution_count": 78,
   "metadata": {},
   "outputs": [
    {
     "data": {
      "text/plain": [
       "<matplotlib.legend.Legend at 0x7f37a41e05f8>"
      ]
     },
     "execution_count": 78,
     "metadata": {},
     "output_type": "execute_result"
    },
    {
     "data": {
      "image/png": "[encoded data removed]",
      "text/plain": [
       "<Figure size 432x288 with 1 Axes>"
      ]
     },
     "metadata": {},
     "output_type": "display_data"
    }
   ],
   "source": [
    "def factors(n):\n",
    "    return [i for i in range(1, n+1) if n % i == 0]\n",
    "\n",
    "P_Ws = [1, 2]\n",
    "P_IDs = factors(T_ID)\n",
    "P_ODs = factors(T_OD)\n",
    "ppl_cands = list(itertools.product(P_Ws, P_IDs, P_ODs))\n",
    "tmx_cands = list(itertools.product(P_Ws, P_IDs, P_Ws, P_IDs, P_ODs))\n",
    "\n",
    "ppl_xs = [ppl.num_mults(P_W, P_ID, P_OD) for P_W, P_ID, P_OD in ppl_cands]\n",
    "ppl_ys = [ppl.num_cycles(P_W, P_ID, P_OD) for P_W, P_ID, P_OD in ppl_cands]\n",
    "tmx_xs = [tmx.num_mults(P_W0, P_ID0, P_W1, P_ID1, P_OD)\n",
    "          for P_W0, P_ID0, P_W1, P_ID1, P_OD in tmx_cands]\n",
    "tmx_ys = [tmx.num_cycles(P_W0, P_ID0, P_W1, P_ID1, P_OD)\n",
    "          for P_W0, P_ID0, P_W1, P_ID1, P_OD in tmx_cands]\n",
    "\n",
    "plt.scatter(ppl_xs, ppl_ys, marker='.', label='pipelined')\n",
    "plt.scatter(tmx_xs, tmx_ys, marker='.', label='time mux')\n",
    "\n",
    "plt.xlabel('Number of multipliers')\n",
    "plt.ylabel('Number of cycles')\n",
    "plt.yscale('log')\n",
    "plt.legend()"
   ]
  },
  {
   "cell_type": "code",
   "execution_count": null,
   "metadata": {},
   "outputs": [],
   "source": []
  }
 ],
 "metadata": {
  "kernelspec": {
   "display_name": "Python 3",
   "language": "python",
   "name": "python3"
  },
  "language_info": {
   "codemirror_mode": {
    "name": "ipython",
    "version": 3
   },
   "file_extension": ".py",
   "mimetype": "text/x-python",
   "name": "python",
   "nbconvert_exporter": "python",
   "pygments_lexer": "ipython3",
   "version": "3.6.3"
  }
 },
 "nbformat": 4,
 "nbformat_minor": 2
}
