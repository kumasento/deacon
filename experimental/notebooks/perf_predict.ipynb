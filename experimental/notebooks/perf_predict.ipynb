{
 "cells": [
  {
   "cell_type": "markdown",
   "metadata": {},
   "source": [
    "# Performance Prediction"
   ]
  },
  {
   "cell_type": "code",
   "execution_count": 1,
   "metadata": {},
   "outputs": [],
   "source": [
    "%matplotlib inline\n",
    "%load_ext autoreload\n",
    "%autoreload 2"
   ]
  },
  {
   "cell_type": "code",
   "execution_count": 55,
   "metadata": {},
   "outputs": [],
   "source": [
    "import matplotlib.pyplot as plt\n",
    "import numpy as np\n",
    "import pandas as pd\n",
    "import perf_predict as pp\n",
    "from layer import BaseLayer, ConvLayer, STD, DPT, PNT, MatmulLayer\n",
    "from net import VGG16\n",
    "from design import BasicDesign, DesignParams"
   ]
  },
  {
   "cell_type": "markdown",
   "metadata": {},
   "source": [
    "## VGG-16"
   ]
  },
  {
   "cell_type": "code",
   "execution_count": 37,
   "metadata": {},
   "outputs": [
    {
     "data": {
      "text/plain": [
       "   conv1_1: <224, 224,    3,   64, 3,   standard>\n",
       "   conv1_2: <224, 224,   64,   64, 3,   standard>\n",
       "   conv2_1: <112, 112,   64,  128, 3,   standard>\n",
       "   conv2_2: <112, 112,  128,  128, 3,   standard>\n",
       "   conv3_1: < 56,  56,  128,  256, 3,   standard>\n",
       "   conv3_2: < 56,  56,  256,  256, 3,   standard>\n",
       "   conv3_3: < 56,  56,  256,  256, 3,   standard>\n",
       "   conv4_1: < 28,  28,  256,  512, 3,   standard>\n",
       "   conv4_2: < 28,  28,  512,  512, 3,   standard>\n",
       "   conv4_3: < 28,  28,  512,  512, 3,   standard>\n",
       "   conv5_1: < 14,  14,  512,  512, 3,   standard>\n",
       "   conv5_2: < 14,  14,  512,  512, 3,   standard>\n",
       "   conv5_3: < 14,  14,  512,  512, 3,   standard>\n",
       "       fc6: <25088, 4096>\n",
       "       fc7: <4096, 4096>\n",
       "       fc8: <4096, 1000>"
      ]
     },
     "execution_count": 37,
     "metadata": {},
     "output_type": "execute_result"
    }
   ],
   "source": [
    "VGG16"
   ]
  },
  {
   "cell_type": "code",
   "execution_count": 38,
   "metadata": {},
   "outputs": [
    {
     "data": {
      "text/plain": [
       "138.34412799999998"
      ]
     },
     "execution_count": 38,
     "metadata": {},
     "output_type": "execute_result"
    }
   ],
   "source": [
    "VGG16.num_params * 1e-6"
   ]
  },
  {
   "cell_type": "code",
   "execution_count": 40,
   "metadata": {},
   "outputs": [
    {
     "data": {
      "text/plain": [
       "30.940528640000004"
      ]
     },
     "execution_count": 40,
     "metadata": {},
     "output_type": "execute_result"
    }
   ],
   "source": [
    "VGG16.num_ops * 1e-9"
   ]
  },
  {
   "cell_type": "code",
   "execution_count": 57,
   "metadata": {},
   "outputs": [
    {
     "data": {
      "text/plain": [
       "(1828814848, 9.14407424, 3.3836698858647942)"
      ]
     },
     "execution_count": 57,
     "metadata": {},
     "output_type": "execute_result"
    }
   ],
   "source": [
    "design = BasicDesign(DesignParams())\n",
    "predictor = pp.BasicPredictor()\n",
    "predictor.predict(VGG16, design)"
   ]
  },
  {
   "cell_type": "code",
   "execution_count": 59,
   "metadata": {},
   "outputs": [
    {
     "data": {
      "text/plain": [
       "<     0,      0,      1,      8>"
      ]
     },
     "execution_count": 59,
     "metadata": {},
     "output_type": "execute_result"
    }
   ],
   "source": [
    "design.resource"
   ]
  },
  {
   "cell_type": "code",
   "execution_count": null,
   "metadata": {},
   "outputs": [],
   "source": []
  }
 ],
 "metadata": {
  "kernelspec": {
   "display_name": "Python 3",
   "language": "python",
   "name": "python3"
  },
  "language_info": {
   "codemirror_mode": {
    "name": "ipython",
    "version": 3
   },
   "file_extension": ".py",
   "mimetype": "text/x-python",
   "name": "python",
   "nbconvert_exporter": "python",
   "pygments_lexer": "ipython3",
   "version": "3.6.3"
  }
 },
 "nbformat": 4,
 "nbformat_minor": 2
}
