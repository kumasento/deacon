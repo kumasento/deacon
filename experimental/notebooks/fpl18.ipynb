{
 "cells": [
  {
   "cell_type": "markdown",
   "metadata": {},
   "source": [
    "# FPL 18 Figures"
   ]
  },
  {
   "cell_type": "code",
   "execution_count": 1,
   "metadata": {},
   "outputs": [],
   "source": [
    "%matplotlib inline\n",
    "%load_ext autoreload\n",
    "%autoreload 2"
   ]
  },
  {
   "cell_type": "code",
   "execution_count": 2,
   "metadata": {},
   "outputs": [],
   "source": [
    "import matplotlib.pyplot as plt\n",
    "import matplotlib\n",
    "import numpy as np\n",
    "import pandas as pd\n",
    "\n",
    "from net import VGG16, RESNET50, MOBILENET_V1, MOBILENET_V2"
   ]
  },
  {
   "cell_type": "code",
   "execution_count": 3,
   "metadata": {},
   "outputs": [],
   "source": [
    "matplotlib.rcParams.update({'font.size': 14})"
   ]
  },
  {
   "cell_type": "markdown",
   "metadata": {},
   "source": [
    "## Characterisation of Four Example Networks"
   ]
  },
  {
   "cell_type": "code",
   "execution_count": 4,
   "metadata": {},
   "outputs": [
    {
     "data": {
      "text/html": [
       "<div>\n",
       "<style scoped>\n",
       "    .dataframe tbody tr th:only-of-type {\n",
       "        vertical-align: middle;\n",
       "    }\n",
       "\n",
       "    .dataframe tbody tr th {\n",
       "        vertical-align: top;\n",
       "    }\n",
       "\n",
       "    .dataframe thead th {\n",
       "        text-align: right;\n",
       "    }\n",
       "</style>\n",
       "<table border=\"1\" class=\"dataframe\">\n",
       "  <thead>\n",
       "    <tr style=\"text-align: right;\">\n",
       "      <th></th>\n",
       "      <th>Model Name</th>\n",
       "      <th># Block Params</th>\n",
       "      <th># Conv Params</th>\n",
       "      <th># FC Params</th>\n",
       "      <th># Block Ops</th>\n",
       "      <th># Conv Ops</th>\n",
       "      <th># FC Ops</th>\n",
       "      <th># Total Params</th>\n",
       "      <th># Total Ops</th>\n",
       "    </tr>\n",
       "  </thead>\n",
       "  <tbody>\n",
       "    <tr>\n",
       "      <th>0</th>\n",
       "      <td>ResNet-50</td>\n",
       "      <td>23400000.0</td>\n",
       "      <td>9410.0</td>\n",
       "      <td>2050000.0</td>\n",
       "      <td>7.480000e+09</td>\n",
       "      <td>238000000.0</td>\n",
       "      <td>4100000.0</td>\n",
       "      <td>25500000.0</td>\n",
       "      <td>7.720000e+09</td>\n",
       "    </tr>\n",
       "    <tr>\n",
       "      <th>1</th>\n",
       "      <td>MobileNetV1</td>\n",
       "      <td>3180000.0</td>\n",
       "      <td>864.0</td>\n",
       "      <td>1024000.0</td>\n",
       "      <td>1.110000e+09</td>\n",
       "      <td>21900000.0</td>\n",
       "      <td>2048000.0</td>\n",
       "      <td>4210000.0</td>\n",
       "      <td>1.140000e+09</td>\n",
       "    </tr>\n",
       "    <tr>\n",
       "      <th>2</th>\n",
       "      <td>MobileNetV2</td>\n",
       "      <td>1780000.0</td>\n",
       "      <td>410464.0</td>\n",
       "      <td>1280000.0</td>\n",
       "      <td>5.460000e+08</td>\n",
       "      <td>62010800.0</td>\n",
       "      <td>2560000.0</td>\n",
       "      <td>3470000.0</td>\n",
       "      <td>6.110000e+08</td>\n",
       "    </tr>\n",
       "  </tbody>\n",
       "</table>\n",
       "</div>"
      ],
      "text/plain": [
       "    Model Name  # Block Params  # Conv Params  # FC Params   # Block Ops  \\\n",
       "0    ResNet-50      23400000.0         9410.0    2050000.0  7.480000e+09   \n",
       "1  MobileNetV1       3180000.0          864.0    1024000.0  1.110000e+09   \n",
       "2  MobileNetV2       1780000.0       410464.0    1280000.0  5.460000e+08   \n",
       "\n",
       "    # Conv Ops   # FC Ops  # Total Params   # Total Ops  \n",
       "0  238000000.0  4100000.0      25500000.0  7.720000e+09  \n",
       "1   21900000.0  2048000.0       4210000.0  1.140000e+09  \n",
       "2   62010800.0  2560000.0       3470000.0  6.110000e+08  "
      ]
     },
     "execution_count": 4,
     "metadata": {},
     "output_type": "execute_result"
    }
   ],
   "source": [
    "net_stat = pd.read_csv('data/net_stat.csv')\n",
    "net_stat"
   ]
  },
  {
   "cell_type": "code",
   "execution_count": 5,
   "metadata": {},
   "outputs": [
    {
     "data": {
      "image/png": "[encoded data removed]",
      "text/plain": [
       "<Figure size 720x216 with 2 Axes>"
      ]
     },
     "metadata": {},
     "output_type": "display_data"
    }
   ],
   "source": [
    "fig, ax = plt.subplots(1, 2, figsize=(10, 3))\n",
    "\n",
    "ind = np.arange(len(net_stat.index))\n",
    "width = 0.35\n",
    "\n",
    "ax[0].bar(ind, net_stat['# Block Params'].tolist(), width, label='Block')\n",
    "ax[0].bar(ind, net_stat['# Conv Params'].tolist(), width, label='Conv')\n",
    "ax[0].bar(ind, net_stat['# FC Params'].tolist(), width, label='FC')\n",
    "\n",
    "ax[0].set_xticks(ind)\n",
    "ax[0].set_xticklabels(tuple(net_stat['Model Name'].tolist()))\n",
    "ax[0].set_ylabel('# Parameters')\n",
    "ax[0].legend()\n",
    "\n",
    "ax[1].bar(ind, net_stat['# Block Ops'].tolist(), width, label='Block')\n",
    "ax[1].bar(ind, net_stat['# Conv Ops'].tolist(), width, label='Conv')\n",
    "ax[1].bar(ind, net_stat['# FC Ops'].tolist(), width, label='FC')\n",
    "\n",
    "ax[1].set_xticks(ind)\n",
    "ax[1].set_xticklabels(tuple(net_stat['Model Name'].tolist()))\n",
    "ax[1].set_ylabel('# Operations')\n",
    "ax[1].legend()\n",
    "\n",
    "fig.savefig('net_stat.pdf', bbox_inches='tight')"
   ]
  },
  {
   "cell_type": "markdown",
   "metadata": {},
   "source": [
    "## VGG-16 Layer Replacement"
   ]
  },
  {
   "cell_type": "code",
   "execution_count": 8,
   "metadata": {},
   "outputs": [],
   "source": [
    "vgg16_replace = pd.read_csv('data/vgg16_replace.csv')\n",
    "vgg16_dist = pd.read_csv('data/vgg16_dist.csv')"
   ]
  },
  {
   "cell_type": "code",
   "execution_count": 29,
   "metadata": {},
   "outputs": [
    {
     "data": {
      "image/png": "[encoded data removed]",
      "text/plain": [
       "<Figure size 576x252 with 2 Axes>"
      ]
     },
     "metadata": {},
     "output_type": "display_data"
    }
   ],
   "source": [
    "fig, ax = plt.subplots(ncols=2, figsize=(8, 3.5))\n",
    "\n",
    "ind = np.arange(len(vgg16_replace.index))\n",
    "ax[0].plot(ind, vgg16_replace['accuracy'].tolist(), 'o', color='r')\n",
    "ax[0].set_xticks(ind)\n",
    "ax[0].set_xlabel('# replaced layers')\n",
    "ax[0].set_ylabel('Top-1 Accuracy')\n",
    "ax[0].set_title('Replace Evaluation')\n",
    "# ax[0].set_xticklabels(vgg16_replace['replaced_layers'])\n",
    "\n",
    "width = 0.3\n",
    "ind = np.arange(len(vgg16_dist.index))\n",
    "ax[1].bar(ind, vgg16_dist['accuracy'].tolist(), width, color='b')\n",
    "ax[1].set_xticks(ind)\n",
    "ax[1].set_xticklabels(vgg16_dist['group_id'].tolist())\n",
    "ax[1].set_title('Top/Bottom Evaluation')\n",
    "\n",
    "fig.tight_layout()\n",
    "fig.savefig('vgg16_eval.pdf')"
   ]
  },
  {
   "cell_type": "markdown",
   "metadata": {},
   "source": [
    "## End-to-End Framework Evaluation"
   ]
  },
  {
   "cell_type": "code",
   "execution_count": 31,
   "metadata": {},
   "outputs": [
    {
     "data": {
      "text/html": [
       "<div>\n",
       "<style scoped>\n",
       "    .dataframe tbody tr th:only-of-type {\n",
       "        vertical-align: middle;\n",
       "    }\n",
       "\n",
       "    .dataframe tbody tr th {\n",
       "        vertical-align: top;\n",
       "    }\n",
       "\n",
       "    .dataframe thead th {\n",
       "        text-align: right;\n",
       "    }\n",
       "</style>\n",
       "<table border=\"1\" class=\"dataframe\">\n",
       "  <thead>\n",
       "    <tr style=\"text-align: right;\">\n",
       "      <th></th>\n",
       "      <th>model_name</th>\n",
       "      <th>accuracy</th>\n",
       "      <th>performance</th>\n",
       "      <th>latency</th>\n",
       "      <th>size</th>\n",
       "    </tr>\n",
       "  </thead>\n",
       "  <tbody>\n",
       "    <tr>\n",
       "      <th>0</th>\n",
       "      <td>VGG-16</td>\n",
       "      <td>0.9075</td>\n",
       "      <td>752.36</td>\n",
       "      <td>37.20</td>\n",
       "      <td>138.34</td>\n",
       "    </tr>\n",
       "    <tr>\n",
       "      <th>1</th>\n",
       "      <td>ResNet-50</td>\n",
       "      <td>0.9350</td>\n",
       "      <td>655.70</td>\n",
       "      <td>10.30</td>\n",
       "      <td>24.30</td>\n",
       "    </tr>\n",
       "    <tr>\n",
       "      <th>2</th>\n",
       "      <td>MobileNetV1</td>\n",
       "      <td>0.8825</td>\n",
       "      <td>182.87</td>\n",
       "      <td>6.22</td>\n",
       "      <td>4.21</td>\n",
       "    </tr>\n",
       "    <tr>\n",
       "      <th>3</th>\n",
       "      <td>MobileNetV2</td>\n",
       "      <td>0.8750</td>\n",
       "      <td>95.34</td>\n",
       "      <td>6.40</td>\n",
       "      <td>3.47</td>\n",
       "    </tr>\n",
       "  </tbody>\n",
       "</table>\n",
       "</div>"
      ],
      "text/plain": [
       "    model_name  accuracy  performance  latency    size\n",
       "0       VGG-16    0.9075       752.36    37.20  138.34\n",
       "1    ResNet-50    0.9350       655.70    10.30   24.30\n",
       "2  MobileNetV1    0.8825       182.87     6.22    4.21\n",
       "3  MobileNetV2    0.8750        95.34     6.40    3.47"
      ]
     },
     "execution_count": 31,
     "metadata": {},
     "output_type": "execute_result"
    }
   ],
   "source": [
    "end2end = pd.read_csv('end2end.csv')\n",
    "end2end"
   ]
  },
  {
   "cell_type": "code",
   "execution_count": 67,
   "metadata": {},
   "outputs": [
    {
     "data": {
      "image/png": "[encoded data removed]",
      "text/plain": [
       "<Figure size 396x288 with 1 Axes>"
      ]
     },
     "metadata": {},
     "output_type": "display_data"
    }
   ],
   "source": [
    "fig, ax = plt.subplots(figsize=(5.5, 4))\n",
    "\n",
    "for i in range(len(end2end.index)):\n",
    "    ax.scatter(end2end['latency'].tolist()[i], end2end['accuracy'].tolist()[i],\n",
    "               s=500 * end2end['size'].tolist()[i] / end2end['size'].tolist()[0],\n",
    "               alpha=0.6,\n",
    "               label=end2end['model_name'].tolist()[i])\n",
    "    \n",
    "ax.set_xlabel('Latency (ms)')\n",
    "ax.set_ylabel('Top-1 Accuracy')\n",
    "ax.set_ylim([0.8, 1.0])\n",
    "ax.legend()\n",
    "\n",
    "fig.tight_layout()\n",
    "fig.savefig('end2end.pdf')"
   ]
  },
  {
   "cell_type": "code",
   "execution_count": null,
   "metadata": {},
   "outputs": [],
   "source": []
  },
  {
   "cell_type": "code",
   "execution_count": null,
   "metadata": {},
   "outputs": [],
   "source": []
  }
 ],
 "metadata": {
  "kernelspec": {
   "display_name": "Python 3",
   "language": "python",
   "name": "python3"
  },
  "language_info": {
   "codemirror_mode": {
    "name": "ipython",
    "version": 3
   },
   "file_extension": ".py",
   "mimetype": "text/x-python",
   "name": "python",
   "nbconvert_exporter": "python",
   "pygments_lexer": "ipython3",
   "version": "3.6.3"
  }
 },
 "nbformat": 4,
 "nbformat_minor": 2
}
