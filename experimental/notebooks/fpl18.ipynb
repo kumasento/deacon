{
 "cells": [
  {
   "cell_type": "markdown",
   "metadata": {},
   "source": [
    "# FPL 18 Figures"
   ]
  },
  {
   "cell_type": "code",
   "execution_count": 1,
   "metadata": {},
   "outputs": [],
   "source": [
    "%matplotlib inline\n",
    "%load_ext autoreload\n",
    "%autoreload 2"
   ]
  },
  {
   "cell_type": "code",
   "execution_count": 2,
   "metadata": {},
   "outputs": [],
   "source": [
    "import matplotlib.pyplot as plt\n",
    "import matplotlib\n",
    "import numpy as np\n",
    "import pandas as pd\n",
    "\n",
    "from net import VGG16, RESNET50, MOBILENET_V1, MOBILENET_V2"
   ]
  },
  {
   "cell_type": "code",
   "execution_count": 3,
   "metadata": {},
   "outputs": [],
   "source": [
    "matplotlib.rcParams.update({'font.size': 14})"
   ]
  },
  {
   "cell_type": "markdown",
   "metadata": {},
   "source": [
    "## Characterisation of Four Example Networks"
   ]
  },
  {
   "cell_type": "code",
   "execution_count": 4,
   "metadata": {},
   "outputs": [
    {
     "data": {
      "text/html": [
       "<div>\n",
       "<style scoped>\n",
       "    .dataframe tbody tr th:only-of-type {\n",
       "        vertical-align: middle;\n",
       "    }\n",
       "\n",
       "    .dataframe tbody tr th {\n",
       "        vertical-align: top;\n",
       "    }\n",
       "\n",
       "    .dataframe thead th {\n",
       "        text-align: right;\n",
       "    }\n",
       "</style>\n",
       "<table border=\"1\" class=\"dataframe\">\n",
       "  <thead>\n",
       "    <tr style=\"text-align: right;\">\n",
       "      <th></th>\n",
       "      <th>Model Name</th>\n",
       "      <th># Block Params</th>\n",
       "      <th># Conv Params</th>\n",
       "      <th># FC Params</th>\n",
       "      <th># Block Ops</th>\n",
       "      <th># Conv Ops</th>\n",
       "      <th># FC Ops</th>\n",
       "      <th># Total Params</th>\n",
       "      <th># Total Ops</th>\n",
       "    </tr>\n",
       "  </thead>\n",
       "  <tbody>\n",
       "    <tr>\n",
       "      <th>0</th>\n",
       "      <td>ResNet-50</td>\n",
       "      <td>23400000.0</td>\n",
       "      <td>9410.0</td>\n",
       "      <td>2050000.0</td>\n",
       "      <td>7.480000e+09</td>\n",
       "      <td>238000000.0</td>\n",
       "      <td>4100000.0</td>\n",
       "      <td>25500000.0</td>\n",
       "      <td>7.720000e+09</td>\n",
       "    </tr>\n",
       "    <tr>\n",
       "      <th>1</th>\n",
       "      <td>MobileNetV1</td>\n",
       "      <td>3180000.0</td>\n",
       "      <td>864.0</td>\n",
       "      <td>1024000.0</td>\n",
       "      <td>1.110000e+09</td>\n",
       "      <td>21900000.0</td>\n",
       "      <td>2048000.0</td>\n",
       "      <td>4210000.0</td>\n",
       "      <td>1.140000e+09</td>\n",
       "    </tr>\n",
       "    <tr>\n",
       "      <th>2</th>\n",
       "      <td>MobileNetV2</td>\n",
       "      <td>1780000.0</td>\n",
       "      <td>410464.0</td>\n",
       "      <td>1280000.0</td>\n",
       "      <td>5.460000e+08</td>\n",
       "      <td>62010800.0</td>\n",
       "      <td>2560000.0</td>\n",
       "      <td>3470000.0</td>\n",
       "      <td>6.110000e+08</td>\n",
       "    </tr>\n",
       "  </tbody>\n",
       "</table>\n",
       "</div>"
      ],
      "text/plain": [
       "    Model Name  # Block Params  # Conv Params  # FC Params   # Block Ops  \\\n",
       "0    ResNet-50      23400000.0         9410.0    2050000.0  7.480000e+09   \n",
       "1  MobileNetV1       3180000.0          864.0    1024000.0  1.110000e+09   \n",
       "2  MobileNetV2       1780000.0       410464.0    1280000.0  5.460000e+08   \n",
       "\n",
       "    # Conv Ops   # FC Ops  # Total Params   # Total Ops  \n",
       "0  238000000.0  4100000.0      25500000.0  7.720000e+09  \n",
       "1   21900000.0  2048000.0       4210000.0  1.140000e+09  \n",
       "2   62010800.0  2560000.0       3470000.0  6.110000e+08  "
      ]
     },
     "execution_count": 4,
     "metadata": {},
     "output_type": "execute_result"
    }
   ],
   "source": [
    "net_stat = pd.read_csv('data/net_stat.csv')\n",
    "net_stat"
   ]
  },
  {
   "cell_type": "code",
   "execution_count": 5,
   "metadata": {},
   "outputs": [
    {
     "data": {
      "image/png": "[encoded data removed]",
      "text/plain": [
       "<Figure size 720x216 with 2 Axes>"
      ]
     },
     "metadata": {},
     "output_type": "display_data"
    }
   ],
   "source": [
    "fig, ax = plt.subplots(1, 2, figsize=(10, 3))\n",
    "\n",
    "ind = np.arange(len(net_stat.index))\n",
    "width = 0.35\n",
    "\n",
    "ax[0].bar(ind, net_stat['# Block Params'].tolist(), width, label='Block')\n",
    "ax[0].bar(ind, net_stat['# Conv Params'].tolist(), width, label='Conv')\n",
    "ax[0].bar(ind, net_stat['# FC Params'].tolist(), width, label='FC')\n",
    "\n",
    "ax[0].set_xticks(ind)\n",
    "ax[0].set_xticklabels(tuple(net_stat['Model Name'].tolist()))\n",
    "ax[0].set_ylabel('# Parameters')\n",
    "ax[0].legend()\n",
    "\n",
    "ax[1].bar(ind, net_stat['# Block Ops'].tolist(), width, label='Block')\n",
    "ax[1].bar(ind, net_stat['# Conv Ops'].tolist(), width, label='Conv')\n",
    "ax[1].bar(ind, net_stat['# FC Ops'].tolist(), width, label='FC')\n",
    "\n",
    "ax[1].set_xticks(ind)\n",
    "ax[1].set_xticklabels(tuple(net_stat['Model Name'].tolist()))\n",
    "ax[1].set_ylabel('# Operations')\n",
    "ax[1].legend()\n",
    "\n",
    "fig.savefig('net_stat.pdf', bbox_inches='tight')"
   ]
  },
  {
   "cell_type": "markdown",
   "metadata": {},
   "source": [
    "## VGG-16 Layer Replacement"
   ]
  },
  {
   "cell_type": "code",
   "execution_count": 8,
   "metadata": {},
   "outputs": [],
   "source": [
    "vgg16_replace = pd.read_csv('data/vgg16_replace.csv')\n",
    "vgg16_dist = pd.read_csv('data/vgg16_dist.csv')"
   ]
  },
  {
   "cell_type": "code",
   "execution_count": 29,
   "metadata": {},
   "outputs": [
    {
     "data": {
      "image/png": "[encoded data removed]",
      "text/plain": [
       "<Figure size 576x252 with 2 Axes>"
      ]
     },
     "metadata": {},
     "output_type": "display_data"
    }
   ],
   "source": [
    "fig, ax = plt.subplots(ncols=2, figsize=(8, 3.5))\n",
    "\n",
    "ind = np.arange(len(vgg16_replace.index))\n",
    "ax[0].plot(ind, vgg16_replace['accuracy'].tolist(), 'o', color='r')\n",
    "ax[0].set_xticks(ind)\n",
    "ax[0].set_xlabel('# replaced layers')\n",
    "ax[0].set_ylabel('Top-1 Accuracy')\n",
    "ax[0].set_title('Replace Evaluation')\n",
    "# ax[0].set_xticklabels(vgg16_replace['replaced_layers'])\n",
    "\n",
    "width = 0.3\n",
    "ind = np.arange(len(vgg16_dist.index))\n",
    "ax[1].bar(ind, vgg16_dist['accuracy'].tolist(), width, color='b')\n",
    "ax[1].set_xticks(ind)\n",
    "ax[1].set_xticklabels(vgg16_dist['group_id'].tolist())\n",
    "ax[1].set_title('Top/Bottom Evaluation')\n",
    "\n",
    "fig.tight_layout()\n",
    "fig.savefig('vgg16_eval.pdf')"
   ]
  },
  {
   "cell_type": "markdown",
   "metadata": {},
   "source": [
    "## End-to-End Framework Evaluation"
   ]
  },
  {
   "cell_type": "code",
   "execution_count": 59,
   "metadata": {},
   "outputs": [
    {
     "data": {
      "text/html": [
       "<div>\n",
       "<style scoped>\n",
       "    .dataframe tbody tr th:only-of-type {\n",
       "        vertical-align: middle;\n",
       "    }\n",
       "\n",
       "    .dataframe tbody tr th {\n",
       "        vertical-align: top;\n",
       "    }\n",
       "\n",
       "    .dataframe thead th {\n",
       "        text-align: right;\n",
       "    }\n",
       "</style>\n",
       "<table border=\"1\" class=\"dataframe\">\n",
       "  <thead>\n",
       "    <tr style=\"text-align: right;\">\n",
       "      <th></th>\n",
       "      <th>model_name</th>\n",
       "      <th>accuracy</th>\n",
       "      <th>performance</th>\n",
       "      <th>latency</th>\n",
       "      <th>size</th>\n",
       "    </tr>\n",
       "  </thead>\n",
       "  <tbody>\n",
       "    <tr>\n",
       "      <th>0</th>\n",
       "      <td>VGG-16</td>\n",
       "      <td>0.9075</td>\n",
       "      <td>734.40</td>\n",
       "      <td>21.30</td>\n",
       "      <td>138.34</td>\n",
       "    </tr>\n",
       "    <tr>\n",
       "      <th>1</th>\n",
       "      <td>VGG-16 (1)</td>\n",
       "      <td>0.9350</td>\n",
       "      <td>1538.20</td>\n",
       "      <td>17.10</td>\n",
       "      <td>132.10</td>\n",
       "    </tr>\n",
       "    <tr>\n",
       "      <th>2</th>\n",
       "      <td>VGG-16 (2)</td>\n",
       "      <td>0.9275</td>\n",
       "      <td>1561.53</td>\n",
       "      <td>12.40</td>\n",
       "      <td>126.80</td>\n",
       "    </tr>\n",
       "    <tr>\n",
       "      <th>3</th>\n",
       "      <td>VGG-16 (5)</td>\n",
       "      <td>0.8475</td>\n",
       "      <td>433.30</td>\n",
       "      <td>8.81</td>\n",
       "      <td>125.30</td>\n",
       "    </tr>\n",
       "    <tr>\n",
       "      <th>4</th>\n",
       "      <td>ResNet-50</td>\n",
       "      <td>0.9350</td>\n",
       "      <td>838.30</td>\n",
       "      <td>8.06</td>\n",
       "      <td>24.30</td>\n",
       "    </tr>\n",
       "    <tr>\n",
       "      <th>5</th>\n",
       "      <td>MobileNetV1</td>\n",
       "      <td>0.8825</td>\n",
       "      <td>211.30</td>\n",
       "      <td>5.38</td>\n",
       "      <td>4.21</td>\n",
       "    </tr>\n",
       "    <tr>\n",
       "      <th>6</th>\n",
       "      <td>MobileNetV2</td>\n",
       "      <td>0.8750</td>\n",
       "      <td>111.20</td>\n",
       "      <td>5.49</td>\n",
       "      <td>3.47</td>\n",
       "    </tr>\n",
       "  </tbody>\n",
       "</table>\n",
       "</div>"
      ],
      "text/plain": [
       "    model_name  accuracy  performance  latency    size\n",
       "0       VGG-16    0.9075       734.40    21.30  138.34\n",
       "1   VGG-16 (1)    0.9350      1538.20    17.10  132.10\n",
       "2   VGG-16 (2)    0.9275      1561.53    12.40  126.80\n",
       "3   VGG-16 (5)    0.8475       433.30     8.81  125.30\n",
       "4    ResNet-50    0.9350       838.30     8.06   24.30\n",
       "5  MobileNetV1    0.8825       211.30     5.38    4.21\n",
       "6  MobileNetV2    0.8750       111.20     5.49    3.47"
      ]
     },
     "execution_count": 59,
     "metadata": {},
     "output_type": "execute_result"
    }
   ],
   "source": [
    "end2end = pd.read_csv('end2end.csv')\n",
    "end2end"
   ]
  },
  {
   "cell_type": "code",
   "execution_count": 60,
   "metadata": {},
   "outputs": [
    {
     "data": {
      "image/png": "[encoded data removed]",
      "text/plain": [
       "<Figure size 396x288 with 1 Axes>"
      ]
     },
     "metadata": {},
     "output_type": "display_data"
    }
   ],
   "source": [
    "fig, ax = plt.subplots(figsize=(5.5, 4))\n",
    "\n",
    "for i in range(len(end2end.index)):\n",
    "    ax.scatter(end2end['latency'].tolist()[i], end2end['accuracy'].tolist()[i],\n",
    "               s=500 * end2end['size'].tolist()[i] / end2end['size'].tolist()[0],\n",
    "               alpha=0.6,\n",
    "               label=end2end['model_name'].tolist()[i])\n",
    "    \n",
    "ax.set_xlabel('Latency (ms)')\n",
    "ax.set_ylabel('Top-1 Accuracy')\n",
    "ax.set_ylim([0.8, 1.0])\n",
    "ax.legend()\n",
    "\n",
    "fig.tight_layout()\n",
    "fig.savefig('end2end.pdf')"
   ]
  },
  {
   "cell_type": "markdown",
   "metadata": {},
   "source": [
    "## Eval performance"
   ]
  },
  {
   "cell_type": "code",
   "execution_count": 13,
   "metadata": {},
   "outputs": [
    {
     "data": {
      "text/html": [
       "<div>\n",
       "<style scoped>\n",
       "    .dataframe tbody tr th:only-of-type {\n",
       "        vertical-align: middle;\n",
       "    }\n",
       "\n",
       "    .dataframe tbody tr th {\n",
       "        vertical-align: top;\n",
       "    }\n",
       "\n",
       "    .dataframe thead th {\n",
       "        text-align: right;\n",
       "    }\n",
       "</style>\n",
       "<table border=\"1\" class=\"dataframe\">\n",
       "  <thead>\n",
       "    <tr style=\"text-align: right;\">\n",
       "      <th></th>\n",
       "      <th>Unnamed: 0</th>\n",
       "      <th>VGG-16</th>\n",
       "      <th>VGG-16 (OPT)</th>\n",
       "      <th>ResNet-50</th>\n",
       "      <th>MobileNet V1</th>\n",
       "      <th>MobileNet V2</th>\n",
       "    </tr>\n",
       "  </thead>\n",
       "  <tbody>\n",
       "    <tr>\n",
       "      <th>0</th>\n",
       "      <td># Operations (GOP)</td>\n",
       "      <td>30.95</td>\n",
       "      <td>26.29</td>\n",
       "      <td>7.74</td>\n",
       "      <td>1.14</td>\n",
       "      <td>0.611</td>\n",
       "    </tr>\n",
       "    <tr>\n",
       "      <th>1</th>\n",
       "      <td># Parameters (M)</td>\n",
       "      <td>138.3</td>\n",
       "      <td>132.1</td>\n",
       "      <td>25.5</td>\n",
       "      <td>4.21</td>\n",
       "      <td>3.47</td>\n",
       "    </tr>\n",
       "    <tr>\n",
       "      <th>2</th>\n",
       "      <td>Clock freq.</td>\n",
       "      <td>200</td>\n",
       "      <td>200</td>\n",
       "      <td>200</td>\n",
       "      <td>200</td>\n",
       "      <td>200</td>\n",
       "    </tr>\n",
       "    <tr>\n",
       "      <th>3</th>\n",
       "      <td>Precision (fixed)</td>\n",
       "      <td>16 bit</td>\n",
       "      <td>16 bit</td>\n",
       "      <td>16 bit</td>\n",
       "      <td>16 bit</td>\n",
       "      <td>16 bit</td>\n",
       "    </tr>\n",
       "    <tr>\n",
       "      <th>4</th>\n",
       "      <td>DSP (18 x 18)</td>\n",
       "      <td>1152 (58.7%)</td>\n",
       "      <td>1664 (84.8%)</td>\n",
       "      <td>1680 (85.6%)</td>\n",
       "      <td>1664 (84.8%)</td>\n",
       "      <td>1856 (94.5%)</td>\n",
       "    </tr>\n",
       "    <tr>\n",
       "      <th>5</th>\n",
       "      <td>Logic (ALM)</td>\n",
       "      <td>200.2 K (76.3%)</td>\n",
       "      <td>235.1 K (89.6%)</td>\n",
       "      <td>244.6 K (93.2%)</td>\n",
       "      <td>222.3 K (84.7%)</td>\n",
       "      <td>212.6 K (81.0%)</td>\n",
       "    </tr>\n",
       "    <tr>\n",
       "      <th>6</th>\n",
       "      <td>BRAM (M20K)</td>\n",
       "      <td>1876 (73.1%)</td>\n",
       "      <td>1923 (74.9%)</td>\n",
       "      <td>2061 (80.3 %)</td>\n",
       "      <td>1651 (64.3%)</td>\n",
       "      <td>1420 (55.3%)</td>\n",
       "    </tr>\n",
       "    <tr>\n",
       "      <th>7</th>\n",
       "      <td>Latency / Image (ms)</td>\n",
       "      <td>21.3</td>\n",
       "      <td>17.1</td>\n",
       "      <td>9.97</td>\n",
       "      <td>0.884</td>\n",
       "      <td>1.02</td>\n",
       "    </tr>\n",
       "    <tr>\n",
       "      <th>8</th>\n",
       "      <td>Throughput (GOPs)</td>\n",
       "      <td>1310.9</td>\n",
       "      <td>1538.2</td>\n",
       "      <td>774.37</td>\n",
       "      <td>1287.2</td>\n",
       "      <td>592</td>\n",
       "    </tr>\n",
       "  </tbody>\n",
       "</table>\n",
       "</div>"
      ],
      "text/plain": [
       "             Unnamed: 0           VGG-16     VGG-16 (OPT)        ResNet-50  \\\n",
       "0    # Operations (GOP)            30.95            26.29             7.74   \n",
       "1      # Parameters (M)            138.3            132.1             25.5   \n",
       "2           Clock freq.              200              200              200   \n",
       "3     Precision (fixed)           16 bit           16 bit           16 bit   \n",
       "4         DSP (18 x 18)     1152 (58.7%)     1664 (84.8%)     1680 (85.6%)   \n",
       "5           Logic (ALM)  200.2 K (76.3%)  235.1 K (89.6%)  244.6 K (93.2%)   \n",
       "6           BRAM (M20K)     1876 (73.1%)     1923 (74.9%)    2061 (80.3 %)   \n",
       "7  Latency / Image (ms)             21.3             17.1             9.97   \n",
       "8     Throughput (GOPs)           1310.9           1538.2           774.37   \n",
       "\n",
       "      MobileNet V1     MobileNet V2  \n",
       "0             1.14            0.611  \n",
       "1             4.21             3.47  \n",
       "2              200              200  \n",
       "3           16 bit           16 bit  \n",
       "4     1664 (84.8%)     1856 (94.5%)  \n",
       "5  222.3 K (84.7%)  212.6 K (81.0%)  \n",
       "6     1651 (64.3%)     1420 (55.3%)  \n",
       "7            0.884             1.02  \n",
       "8           1287.2              592  "
      ]
     },
     "execution_count": 13,
     "metadata": {},
     "output_type": "execute_result"
    }
   ],
   "source": [
    "perf = pd.read_csv('data/eval.csv')\n",
    "perf"
   ]
  },
  {
   "cell_type": "code",
   "execution_count": 15,
   "metadata": {},
   "outputs": [
    {
     "name": "stdout",
     "output_type": "stream",
     "text": [
      "\\begin{tabular}{lllllll}\n",
      "\\toprule\n",
      "{} &            Unnamed: 0 &           VGG-16 &     VGG-16 (OPT) &        ResNet-50 &     MobileNet V1 &     MobileNet V2 \\\\\n",
      "\\midrule\n",
      "0 &    \\# Operations (GOP) &            30.95 &            26.29 &             7.74 &             1.14 &            0.611 \\\\\n",
      "1 &      \\# Parameters (M) &            138.3 &            132.1 &             25.5 &             4.21 &             3.47 \\\\\n",
      "2 &           Clock freq. &              200 &              200 &              200 &              200 &              200 \\\\\n",
      "3 &     Precision (fixed) &           16 bit &           16 bit &           16 bit &           16 bit &           16 bit \\\\\n",
      "4 &         DSP (18 x 18) &     1152 (58.7\\%) &     1664 (84.8\\%) &     1680 (85.6\\%) &     1664 (84.8\\%) &     1856 (94.5\\%) \\\\\n",
      "5 &           Logic (ALM) &  200.2 K (76.3\\%) &  235.1 K (89.6\\%) &  244.6 K (93.2\\%) &  222.3 K (84.7\\%) &  212.6 K (81.0\\%) \\\\\n",
      "6 &           BRAM (M20K) &     1876 (73.1\\%) &     1923 (74.9\\%) &    2061 (80.3 \\%) &     1651 (64.3\\%) &     1420 (55.3\\%) \\\\\n",
      "7 &  Latency / Image (ms) &             21.3 &             17.1 &             9.97 &            0.884 &             1.02 \\\\\n",
      "8 &     Throughput (GOPs) &           1310.9 &           1538.2 &           774.37 &           1287.2 &              592 \\\\\n",
      "\\bottomrule\n",
      "\\end{tabular}\n",
      "\n"
     ]
    }
   ],
   "source": [
    "print(perf.to_latex())"
   ]
  },
  {
   "cell_type": "markdown",
   "metadata": {},
   "source": [
    "## Fuse and not fuse"
   ]
  },
  {
   "cell_type": "code",
   "execution_count": 30,
   "metadata": {},
   "outputs": [
    {
     "data": {
      "image/png": "[encoded data removed]",
      "text/plain": [
       "<Figure size 288x180 with 1 Axes>"
      ]
     },
     "metadata": {},
     "output_type": "display_data"
    }
   ],
   "source": [
    "fig, ax = plt.subplots(figsize=(4, 2.5))\n",
    "\n",
    "ind = np.arange(3)\n",
    "width = 0.2\n",
    "names = ['ResNet-50', 'MobileNet V1', 'MobileNet V2']\n",
    "\n",
    "with_fuse = [774.37, 1168.87, 591.99]\n",
    "without_fuse = [691.8, 420.3, 369.2]\n",
    "\n",
    "ax.bar(ind, without_fuse, width, label='without fuse', color='b')\n",
    "ax.bar(ind + width, with_fuse, width, label='with fuse', color='r')\n",
    "ax.set_xticks(ind + width / 2)\n",
    "ax.set_xticklabels(names)\n",
    "ax.set_ylabel('Performance (GOPS)')\n",
    "ax.legend()\n",
    "\n",
    "fig.tight_layout()\n",
    "fig.savefig('fuse_and_not_fuse.pdf')"
   ]
  },
  {
   "cell_type": "markdown",
   "metadata": {},
   "source": [
    "## Joint"
   ]
  },
  {
   "cell_type": "code",
   "execution_count": 63,
   "metadata": {},
   "outputs": [
    {
     "data": {
      "image/png": "[encoded data removed]",
      "text/plain": [
       "<Figure size 648x252 with 2 Axes>"
      ]
     },
     "metadata": {},
     "output_type": "display_data"
    }
   ],
   "source": [
    "fig, ax = plt.subplots(ncols=2, figsize=(9, 3.5))\n",
    "\n",
    "for i in range(len(end2end.index)):\n",
    "    ax[0].scatter(end2end['latency'].tolist()[i], end2end['accuracy'].tolist()[i],\n",
    "               s=500 * end2end['size'].tolist()[i] / end2end['size'].tolist()[0],\n",
    "               alpha=0.8,\n",
    "               label=end2end['model_name'].tolist()[i])\n",
    "\n",
    "ax[0].set_title('(a) Model Exploration')\n",
    "ax[0].set_xlabel('Latency (ms)')\n",
    "ax[0].set_ylabel('Top-1 Accuracy')\n",
    "ax[0].set_ylim([0.80, 1.0])\n",
    "ax[0].legend()\n",
    "\n",
    "ind = np.arange(3)\n",
    "width = 0.2\n",
    "names = ['ResNet-50', 'MobileNet V1', 'MobileNet V2']\n",
    "\n",
    "with_fuse = [774.37, 1168.87, 591.99]\n",
    "without_fuse = [691.8, 420.3, 369.2]\n",
    "\n",
    "ax[1].set_title('(b) Layer Fusion')\n",
    "ax[1].bar(ind, without_fuse, width, label='without fuse', color='b')\n",
    "ax[1].bar(ind + width, with_fuse, width, label='with fuse', color='r')\n",
    "ax[1].set_xticks(ind + width / 2)\n",
    "ax[1].set_xticklabels(names)\n",
    "ax[1].set_ylabel('Performance (GOPS)')\n",
    "ax[1].legend()\n",
    "\n",
    "fig.tight_layout()\n",
    "fig.savefig('join.pdf')"
   ]
  },
  {
   "cell_type": "code",
   "execution_count": null,
   "metadata": {},
   "outputs": [],
   "source": []
  }
 ],
 "metadata": {
  "kernelspec": {
   "display_name": "Python 3",
   "language": "python",
   "name": "python3"
  },
  "language_info": {
   "codemirror_mode": {
    "name": "ipython",
    "version": 3
   },
   "file_extension": ".py",
   "mimetype": "text/x-python",
   "name": "python",
   "nbconvert_exporter": "python",
   "pygments_lexer": "ipython3",
   "version": "3.6.4"
  }
 },
 "nbformat": 4,
 "nbformat_minor": 2
}
