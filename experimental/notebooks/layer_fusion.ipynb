{
 "cells": [
  {
   "cell_type": "markdown",
   "metadata": {},
   "source": [
    "# Layer Fusion\n",
    "\n",
    "Layer fusion related computations are listed in this notebook."
   ]
  },
  {
   "cell_type": "code",
   "execution_count": 1,
   "metadata": {},
   "outputs": [],
   "source": [
    "%matplotlib inline\n",
    "%load_ext autoreload\n",
    "%autoreload 2"
   ]
  },
  {
   "cell_type": "code",
   "execution_count": 34,
   "metadata": {},
   "outputs": [],
   "source": [
    "import numpy as np\n",
    "import matplotlib.pyplot as plt\n",
    "import itertools\n",
    "from collections import OrderedDict\n",
    "from functools import reduce"
   ]
  },
  {
   "cell_type": "markdown",
   "metadata": {},
   "source": [
    "## Convolution Block"
   ]
  },
  {
   "cell_type": "code",
   "execution_count": 16,
   "metadata": {},
   "outputs": [],
   "source": [
    "class ConvLayer:\n",
    "    def __init__(self, name, H, W, C, F, K, T):\n",
    "        self.name = name\n",
    "        self.H = H\n",
    "        self.W = W\n",
    "        self.C = C\n",
    "        self.F = F\n",
    "        self.K = K\n",
    "        self.T = T # type\n",
    "        \n",
    "    def __str__(self):\n",
    "        return \"%10s: <%4d, %4d, %4d, %4d, %4d, %10s>\" % (self.name, self.H, self.W, self.C, self.F, self.K, self.T)\n",
    "    \n",
    "    def __repr__(self):\n",
    "        return self.__str__()"
   ]
  },
  {
   "cell_type": "code",
   "execution_count": 17,
   "metadata": {},
   "outputs": [],
   "source": [
    "def create_depthwise_separable_block(H, W, C, F, K):\n",
    "    return [\n",
    "        ConvLayer(\"conv1\", H, W, C, C, K, \"depthwise\"),\n",
    "        ConvLayer(\"conv2\", H, W, C, F, 1, \"pointwise\")\n",
    "    ]\n",
    "def create_bottleneck_block(H, W, C, F, K):\n",
    "    return [\n",
    "        ConvLayer(\"conv1\", H, W, C, F, 1, \"pointwise\"),\n",
    "        ConvLayer(\"conv2\", H, W, F, F, K, \"standard\"),\n",
    "        ConvLayer(\"conv3\", H, W, F, C, 1, \"pointwise\")\n",
    "    ]\n",
    "def create_separable_bottleneck_block(H, W, C, F, K):\n",
    "    return [\n",
    "        ConvLayer(\"conv1\", H, W, C, F, 1, \"pointwise\"),\n",
    "        ConvLayer(\"conv2\", H, W, F, F, K, \"depthwise\"),\n",
    "        ConvLayer(\"conv3\", H, W, F, C, 1, \"pointwise\")\n",
    "    ]"
   ]
  },
  {
   "cell_type": "code",
   "execution_count": 18,
   "metadata": {},
   "outputs": [
    {
     "data": {
      "text/plain": [
       "[     conv1: <  56,   56,  256,  256,    3,  depthwise>,\n",
       "      conv2: <  56,   56,  256,  256,    1,  pointwise>]"
      ]
     },
     "execution_count": 18,
     "metadata": {},
     "output_type": "execute_result"
    }
   ],
   "source": [
    "create_depthwise_separable_block(56, 56, 256, 256, 3)"
   ]
  },
  {
   "cell_type": "code",
   "execution_count": 19,
   "metadata": {},
   "outputs": [
    {
     "data": {
      "text/plain": [
       "[     conv1: <  56,   56,  256,  256,    1,  pointwise>,\n",
       "      conv2: <  56,   56,  256,  256,    3,   standard>,\n",
       "      conv3: <  56,   56,  256,  256,    1,  pointwise>]"
      ]
     },
     "execution_count": 19,
     "metadata": {},
     "output_type": "execute_result"
    }
   ],
   "source": [
    "create_bottleneck_block(56, 56, 256, 256, 3)"
   ]
  },
  {
   "cell_type": "code",
   "execution_count": 20,
   "metadata": {},
   "outputs": [
    {
     "data": {
      "text/plain": [
       "[     conv1: <  56,   56,  256,  256,    1,  pointwise>,\n",
       "      conv2: <  56,   56,  256,  256,    3,  depthwise>,\n",
       "      conv3: <  56,   56,  256,  256,    1,  pointwise>]"
      ]
     },
     "execution_count": 20,
     "metadata": {},
     "output_type": "execute_result"
    }
   ],
   "source": [
    "create_separable_bottleneck_block(56, 56, 256, 256, 3)"
   ]
  },
  {
   "cell_type": "markdown",
   "metadata": {},
   "source": [
    "## Baseline Result"
   ]
  },
  {
   "cell_type": "code",
   "execution_count": 39,
   "metadata": {},
   "outputs": [],
   "source": [
    "class BaselineModel:\n",
    "    def get_cycles(self, block, params, seqs):\n",
    "        num_cycles = 0\n",
    "        for layer in block:\n",
    "            param = params[layer.name]\n",
    "            if layer.T == \"standard\" or layer.T == \"pointwise\":\n",
    "                num_cycles += layer.H * layer.W * layer.C * layer.F / (param[\"P_W\"] * param[\"P_C\"] * param[\"P_F\"])\n",
    "            elif layer.T == \"depthwise\":\n",
    "                num_cycles += layer.H * layer.W * layer.C / (param[\"P_W\"] * param[\"P_C\"])\n",
    "        return num_cycles\n",
    "\n",
    "    def get_resources(self, block, params, seqs):\n",
    "        num_mults = 0\n",
    "        for layer in block:\n",
    "            param = params[layer.name]\n",
    "            if layer.T == \"standard\":\n",
    "                num_mults += param[\"P_W\"] * param[\"P_C\"] * param[\"P_F\"] * (layer.K ** 2)\n",
    "            elif layer.T == \"depthwise\":\n",
    "                num_mults += param[\"P_W\"] * param[\"P_C\"] * (layer.K ** 2)\n",
    "            elif layer.T == \"pointwise\":\n",
    "                num_mults += param[\"P_W\"] * param[\"P_C\"] * param[\"P_F\"]\n",
    "        return num_mults"
   ]
  },
  {
   "cell_type": "code",
   "execution_count": 40,
   "metadata": {},
   "outputs": [
    {
     "data": {
      "text/plain": [
       "206323712.0"
      ]
     },
     "execution_count": 40,
     "metadata": {},
     "output_type": "execute_result"
    }
   ],
   "source": [
    "model = BaselineModel()\n",
    "model.get_cycles(\n",
    "    create_depthwise_separable_block(56, 56, 256, 256, 3),\n",
    "    {\"conv1\": {\"P_W\": 1, \"P_C\": 1}, \"conv2\": {\"P_W\": 1, \"P_C\": 1, \"P_F\": 1}},\n",
    "    None)"
   ]
  },
  {
   "cell_type": "code",
   "execution_count": 41,
   "metadata": {},
   "outputs": [
    {
     "data": {
      "text/plain": [
       "616562688.0"
      ]
     },
     "execution_count": 41,
     "metadata": {},
     "output_type": "execute_result"
    }
   ],
   "source": [
    "model.get_cycles(\n",
    "    create_bottleneck_block(56, 56, 256, 256, 3),\n",
    "    {\"conv1\": {\"P_W\": 1, \"P_C\": 1, \"P_F\": 1},\n",
    "     \"conv2\": {\"P_W\": 1, \"P_C\": 1, \"P_F\": 1},\n",
    "     \"conv3\": {\"P_W\": 1, \"P_C\": 1, \"P_F\": 1}},\n",
    "    None)"
   ]
  },
  {
   "cell_type": "code",
   "execution_count": 42,
   "metadata": {},
   "outputs": [
    {
     "data": {
      "text/plain": [
       "411844608.0"
      ]
     },
     "execution_count": 42,
     "metadata": {},
     "output_type": "execute_result"
    }
   ],
   "source": [
    "model.get_cycles(\n",
    "    create_separable_bottleneck_block(56, 56, 256, 256, 3),\n",
    "    {\"conv1\": {\"P_W\": 1, \"P_C\": 1, \"P_F\": 1},\n",
    "     \"conv2\": {\"P_W\": 1, \"P_C\": 1, \"P_F\": 1},\n",
    "     \"conv3\": {\"P_W\": 1, \"P_C\": 1, \"P_F\": 1}},\n",
    "    None)"
   ]
  },
  {
   "cell_type": "code",
   "execution_count": 51,
   "metadata": {},
   "outputs": [],
   "source": [
    "def factors(n):\n",
    "    return [i for i in range(1, n+1) if n % i == 0]\n",
    "\n",
    "def to_params(block, prod):\n",
    "    idx = 0\n",
    "    params = OrderedDict()\n",
    "    for layer in block:\n",
    "        if layer.T == \"depthwise\":\n",
    "            params[layer.name] = {\"P_W\": prod[idx], \"P_C\": prod[idx+1]}\n",
    "            idx += 2\n",
    "        elif layer.T == \"pointwise\" or layer.T == \"standard\":\n",
    "            params[layer.name] = {\"P_W\": prod[idx], \"P_C\": prod[idx+1], \"P_F\": prod[idx+2]}\n",
    "            idx += 3\n",
    "    return params\n",
    "\n",
    "def validate(block, params):\n",
    "    is_P_W_valid = reduce(lambda x, y: x and params[y.name][\"P_W\"] == params[block[0].name][\"P_W\"],\n",
    "                          block)\n",
    "    is_P_C_F_valid = True\n",
    "    for idx, layer in enumerate(block):\n",
    "        if idx > 0 and params[layer.name][\"P_C\"] != params[block[idx-1].name][\"P_C\"]:\n",
    "            is_P_C_F_valid = False\n",
    "            break\n",
    "    \n",
    "    return is_P_W_valid and is_P_C_F_valid\n",
    "    \n",
    "\n",
    "def resolve_block(block, max_mults):\n",
    "    model = BaselineModel()\n",
    "    block_param_cand = []\n",
    "    for layer in block:\n",
    "        if layer.T == \"depthwise\":\n",
    "            block_param_cand.extend([[1, 2], factors(layer.C)])\n",
    "        elif layer.T == \"pointwise\" or layer.T == \"standard\":\n",
    "            block_param_cand.extend([[1, 2], factors(layer.C), factors(layer.F)])\n",
    "\n",
    "    results = []\n",
    "    products = list(itertools.product(*block_param_cand))\n",
    "    for idx, prod in enumerate(products):\n",
    "        params = to_params(block, prod)\n",
    "        # all P_W should equal\n",
    "        if not validate(block, params):\n",
    "            continue\n",
    "        num_mults = model.get_resources(block, params, None)\n",
    "        if num_mults >= max_mults:\n",
    "            continue\n",
    "        num_cycles = model.get_cycles(block, params, None)\n",
    "        results.append([num_cycles, num_mults, params, None])\n",
    "    \n",
    "    return results"
   ]
  },
  {
   "cell_type": "code",
   "execution_count": 55,
   "metadata": {},
   "outputs": [],
   "source": [
    "results = [\n",
    "    resolve_block(create_depthwise_separable_block(56, 56, 256, 256, 3), 1963),\n",
    "    resolve_block(create_bottleneck_block(56, 56, 256, 256, 3), 1963),\n",
    "    resolve_block(create_separable_bottleneck_block(56, 56, 256, 256, 3), 1963)\n",
    "]"
   ]
  },
  {
   "cell_type": "code",
   "execution_count": 57,
   "metadata": {},
   "outputs": [
    {
     "data": {
      "text/plain": [
       "<matplotlib.legend.Legend at 0x7ff029959da0>"
      ]
     },
     "execution_count": 57,
     "metadata": {},
     "output_type": "execute_result"
    },
    {
     "data": {
      "image/png": "[encoded data removed]",
      "text/plain": [
       "<Figure size 432x288 with 1 Axes>"
      ]
     },
     "metadata": {},
     "output_type": "display_data"
    }
   ],
   "source": [
    "xss = []\n",
    "yss = []\n",
    "for result in results:\n",
    "    xss.append([x[1] for x in result])\n",
    "    yss.append([x[0] for x in result])\n",
    "    \n",
    "plt.scatter(xss[0], yss[0], marker='.', label='depthwise separable')\n",
    "plt.scatter(xss[1], yss[1], marker='.', label='bottleneck')\n",
    "plt.scatter(xss[2], yss[2], marker='.', label='separable bottleneck')\n",
    "\n",
    "plt.xlabel('Number of multipliers')\n",
    "plt.ylabel('Number of cycles')\n",
    "plt.yscale('log')\n",
    "plt.legend()"
   ]
  },
  {
   "cell_type": "code",
   "execution_count": null,
   "metadata": {},
   "outputs": [],
   "source": []
  }
 ],
 "metadata": {
  "kernelspec": {
   "display_name": "Python 3",
   "language": "python",
   "name": "python3"
  },
  "language_info": {
   "codemirror_mode": {
    "name": "ipython",
    "version": 3
   },
   "file_extension": ".py",
   "mimetype": "text/x-python",
   "name": "python",
   "nbconvert_exporter": "python",
   "pygments_lexer": "ipython3",
   "version": "3.6.3"
  }
 },
 "nbformat": 4,
 "nbformat_minor": 2
}
