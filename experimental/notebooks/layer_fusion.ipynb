{
 "cells": [
  {
   "cell_type": "markdown",
   "metadata": {},
   "source": [
    "# Layer Fusion\n",
    "\n",
    "Layer fusion related computations are listed in this notebook."
   ]
  },
  {
   "cell_type": "code",
   "execution_count": 1,
   "metadata": {},
   "outputs": [],
   "source": [
    "%matplotlib inline\n",
    "%load_ext autoreload\n",
    "%autoreload 2"
   ]
  },
  {
   "cell_type": "code",
   "execution_count": 62,
   "metadata": {},
   "outputs": [],
   "source": [
    "import math\n",
    "import pandas as pd\n",
    "import numpy as np\n",
    "import matplotlib.pyplot as plt\n",
    "import itertools\n",
    "from collections import OrderedDict\n",
    "from functools import reduce\n",
    "import layer_fusion_utils as utils"
   ]
  },
  {
   "cell_type": "markdown",
   "metadata": {},
   "source": [
    "## Convolution Block"
   ]
  },
  {
   "cell_type": "code",
   "execution_count": 3,
   "metadata": {},
   "outputs": [],
   "source": [
    "ConvLayer = utils.ConvLayer"
   ]
  },
  {
   "cell_type": "code",
   "execution_count": 186,
   "metadata": {},
   "outputs": [],
   "source": [
    "def create_stacked_block(H, W, C, K):\n",
    "    return [\n",
    "        ConvLayer(\"conv1\", H, W, C, C, K, \"standard\"),\n",
    "        ConvLayer(\"conv2\", H - K + 1, W - K + 1, C, C, K, \"standard\")\n",
    "    ]\n",
    "\n",
    "def create_depthwise_separable_block(H, W, C, F, K):\n",
    "    return [\n",
    "        ConvLayer(\"conv1\", H, W, C, C, K, \"depthwise\"),\n",
    "        ConvLayer(\"conv2\", H, W, C, F, 1, \"pointwise\")\n",
    "    ]\n",
    "def create_bottleneck_block(H, W, C, F, K):\n",
    "    return [\n",
    "        ConvLayer(\"conv1\", H, W, C, F, 1, \"pointwise\"),\n",
    "        ConvLayer(\"conv2\", H, W, F, F, K, \"standard\"),\n",
    "        ConvLayer(\"conv3\", H - K + 1, W - K + 1, F, C, 1, \"pointwise\")\n",
    "    ]\n",
    "def create_separable_bottleneck_block(H, W, C, F, K):\n",
    "    return [\n",
    "        ConvLayer(\"conv1\", H, W, C, F, 1, \"pointwise\"),\n",
    "        ConvLayer(\"conv2\", H, W, F, F, K, \"depthwise\"),\n",
    "        ConvLayer(\"conv3\", H, W, F, C, 1, \"pointwise\")\n",
    "    ]"
   ]
  },
  {
   "cell_type": "code",
   "execution_count": 5,
   "metadata": {},
   "outputs": [
    {
     "data": {
      "text/plain": [
       "[     conv1: <  56,   56,  256,  256,    3,  depthwise>,\n",
       "      conv2: <  56,   56,  256,  256,    1,  pointwise>]"
      ]
     },
     "execution_count": 5,
     "metadata": {},
     "output_type": "execute_result"
    }
   ],
   "source": [
    "create_depthwise_separable_block(56, 56, 256, 256, 3)"
   ]
  },
  {
   "cell_type": "code",
   "execution_count": 6,
   "metadata": {},
   "outputs": [
    {
     "data": {
      "text/plain": [
       "[     conv1: <  56,   56,  256,  256,    1,  pointwise>,\n",
       "      conv2: <  56,   56,  256,  256,    3,   standard>,\n",
       "      conv3: <  54,   54,  256,  256,    1,  pointwise>]"
      ]
     },
     "execution_count": 6,
     "metadata": {},
     "output_type": "execute_result"
    }
   ],
   "source": [
    "create_bottleneck_block(56, 56, 256, 256, 3)"
   ]
  },
  {
   "cell_type": "code",
   "execution_count": 7,
   "metadata": {},
   "outputs": [
    {
     "data": {
      "text/plain": [
       "[     conv1: <  56,   56,  256,  256,    1,  pointwise>,\n",
       "      conv2: <  56,   56,  256,  256,    3,  depthwise>,\n",
       "      conv3: <  56,   56,  256,  256,    1,  pointwise>]"
      ]
     },
     "execution_count": 7,
     "metadata": {},
     "output_type": "execute_result"
    }
   ],
   "source": [
    "create_separable_bottleneck_block(56, 56, 256, 256, 3)"
   ]
  },
  {
   "cell_type": "markdown",
   "metadata": {},
   "source": [
    "## Baseline Result"
   ]
  },
  {
   "cell_type": "code",
   "execution_count": 8,
   "metadata": {},
   "outputs": [],
   "source": [
    "class BaselineModel:\n",
    "    def get_cycles(self, block, params, seqs):\n",
    "        num_cycles = 0\n",
    "        for layer in block:\n",
    "            param = params[layer.name]\n",
    "            if layer.T == \"standard\" or layer.T == \"pointwise\":\n",
    "                num_cycles += layer.H * layer.W * layer.C * layer.F / (param[\"P_W\"] * param[\"P_C\"] * param[\"P_F\"])\n",
    "            elif layer.T == \"depthwise\":\n",
    "                num_cycles += layer.H * layer.W * layer.C / (param[\"P_W\"] * param[\"P_C\"])\n",
    "        return num_cycles\n",
    "\n",
    "    def get_resources(self, block, params, seqs):\n",
    "        num_mults = 0\n",
    "        for layer in block:\n",
    "            param = params[layer.name]\n",
    "            if layer.T == \"standard\":\n",
    "                num_mults += param[\"P_W\"] * param[\"P_C\"] * param[\"P_F\"] * (layer.K ** 2)\n",
    "            elif layer.T == \"depthwise\":\n",
    "                num_mults += param[\"P_W\"] * param[\"P_C\"] * (layer.K ** 2)\n",
    "            elif layer.T == \"pointwise\":\n",
    "                num_mults += param[\"P_W\"] * param[\"P_C\"] * param[\"P_F\"]\n",
    "        return num_mults"
   ]
  },
  {
   "cell_type": "code",
   "execution_count": 9,
   "metadata": {},
   "outputs": [
    {
     "data": {
      "text/plain": [
       "206323712.0"
      ]
     },
     "execution_count": 9,
     "metadata": {},
     "output_type": "execute_result"
    }
   ],
   "source": [
    "model = BaselineModel()\n",
    "model.get_cycles(\n",
    "    create_depthwise_separable_block(56, 56, 256, 256, 3),\n",
    "    {\"conv1\": {\"P_W\": 1, \"P_C\": 1}, \"conv2\": {\"P_W\": 1, \"P_C\": 1, \"P_F\": 1}},\n",
    "    None)"
   ]
  },
  {
   "cell_type": "code",
   "execution_count": 10,
   "metadata": {},
   "outputs": [
    {
     "data": {
      "text/plain": [
       "602144768.0"
      ]
     },
     "execution_count": 10,
     "metadata": {},
     "output_type": "execute_result"
    }
   ],
   "source": [
    "model.get_cycles(\n",
    "    create_bottleneck_block(56, 56, 256, 256, 3),\n",
    "    {\"conv1\": {\"P_W\": 1, \"P_C\": 1, \"P_F\": 1},\n",
    "     \"conv2\": {\"P_W\": 1, \"P_C\": 1, \"P_F\": 1},\n",
    "     \"conv3\": {\"P_W\": 1, \"P_C\": 1, \"P_F\": 1}},\n",
    "    None)"
   ]
  },
  {
   "cell_type": "code",
   "execution_count": 11,
   "metadata": {},
   "outputs": [
    {
     "data": {
      "text/plain": [
       "411844608.0"
      ]
     },
     "execution_count": 11,
     "metadata": {},
     "output_type": "execute_result"
    }
   ],
   "source": [
    "model.get_cycles(\n",
    "    create_separable_bottleneck_block(56, 56, 256, 256, 3),\n",
    "    {\"conv1\": {\"P_W\": 1, \"P_C\": 1, \"P_F\": 1},\n",
    "     \"conv2\": {\"P_W\": 1, \"P_C\": 1, \"P_F\": 1},\n",
    "     \"conv3\": {\"P_W\": 1, \"P_C\": 1, \"P_F\": 1}},\n",
    "    None)"
   ]
  },
  {
   "cell_type": "code",
   "execution_count": 12,
   "metadata": {},
   "outputs": [],
   "source": [
    "def factors(n):\n",
    "    return [i for i in range(1, n+1) if n % i == 0]\n",
    "\n",
    "def to_params(block, prod):\n",
    "    idx = 0\n",
    "    params = OrderedDict()\n",
    "    for layer in block:\n",
    "        if layer.T == \"depthwise\":\n",
    "            params[layer.name] = {\"P_W\": prod[idx], \"P_C\": prod[idx+1]}\n",
    "            idx += 2\n",
    "        elif layer.T == \"pointwise\" or layer.T == \"standard\":\n",
    "            params[layer.name] = {\"P_W\": prod[idx], \"P_C\": prod[idx+1], \"P_F\": prod[idx+2]}\n",
    "            idx += 3\n",
    "    return params\n",
    "\n",
    "def validate(block, params):\n",
    "    is_P_W_valid = reduce(lambda x, y: x and params[y.name][\"P_W\"] == params[block[0].name][\"P_W\"],\n",
    "                          block)\n",
    "    is_P_C_F_valid = True\n",
    "    for idx, layer in enumerate(block):\n",
    "        if idx > 0 and params[layer.name][\"P_C\"] != params[block[idx-1].name][\"P_C\"]:\n",
    "            is_P_C_F_valid = False\n",
    "            break\n",
    "    \n",
    "    return is_P_W_valid and is_P_C_F_valid\n",
    "    \n",
    "\n",
    "def resolve_block(block, max_mults):\n",
    "    model = BaselineModel()\n",
    "    block_param_cand = []\n",
    "    for layer in block:\n",
    "        if layer.T == \"depthwise\":\n",
    "            block_param_cand.extend([[1, 2], factors(layer.C)])\n",
    "        elif layer.T == \"pointwise\" or layer.T == \"standard\":\n",
    "            block_param_cand.extend([[1, 2], factors(layer.C), factors(layer.F)])\n",
    "\n",
    "    results = []\n",
    "    products = list(itertools.product(*block_param_cand))\n",
    "    for idx, prod in enumerate(products):\n",
    "        params = to_params(block, prod)\n",
    "        # all P_W should equal\n",
    "        if not validate(block, params):\n",
    "            continue\n",
    "        num_mults = model.get_resources(block, params, None)\n",
    "        if num_mults >= max_mults:\n",
    "            continue\n",
    "        num_cycles = model.get_cycles(block, params, None)\n",
    "        results.append([num_cycles, num_mults, params, None])\n",
    "    \n",
    "    return results"
   ]
  },
  {
   "cell_type": "code",
   "execution_count": 13,
   "metadata": {},
   "outputs": [],
   "source": [
    "results = [\n",
    "    resolve_block(create_depthwise_separable_block(56, 56, 256, 256, 3), 1963),\n",
    "    resolve_block(create_bottleneck_block(56, 56, 256, 256, 3), 1963),\n",
    "    resolve_block(create_separable_bottleneck_block(56, 56, 256, 256, 3), 1963)\n",
    "]"
   ]
  },
  {
   "cell_type": "code",
   "execution_count": 181,
   "metadata": {},
   "outputs": [
    {
     "data": {
      "text/plain": [
       "<matplotlib.legend.Legend at 0x7f6cfa460d30>"
      ]
     },
     "execution_count": 181,
     "metadata": {},
     "output_type": "execute_result"
    },
    {
     "data": {
      "image/png": "[encoded data removed]",
      "text/plain": [
       "<Figure size 432x288 with 1 Axes>"
      ]
     },
     "metadata": {},
     "output_type": "display_data"
    }
   ],
   "source": [
    "xss = []\n",
    "yss = []\n",
    "for result in results:\n",
    "    xss.append([x[1] for x in result])\n",
    "    yss.append([x[0] for x in result])\n",
    "    \n",
    "plt.scatter(xss[0], yss[0], marker='.', label='depthwise separable')\n",
    "plt.scatter(xss[1], yss[1], marker='.', label='bottleneck')\n",
    "plt.scatter(xss[2], yss[2], marker='.', label='separable bottleneck')\n",
    "\n",
    "plt.xlabel('Number of multipliers')\n",
    "plt.ylabel('Number of cycles')\n",
    "plt.yscale('log')\n",
    "plt.legend()"
   ]
  },
  {
   "cell_type": "markdown",
   "metadata": {},
   "source": [
    "## Dataflow Model\n",
    "\n",
    "Let's evaluate the dataflow model."
   ]
  },
  {
   "cell_type": "markdown",
   "metadata": {},
   "source": [
    "### An Example on Depthwise Separable Convolution"
   ]
  },
  {
   "cell_type": "code",
   "execution_count": 15,
   "metadata": {},
   "outputs": [
    {
     "name": "stdout",
     "output_type": "stream",
     "text": [
      "      True     filter       True        256 [319, 575, 831, 1087, 1343, 1599, 1855, 2111, 2367, 2623]\n",
      "      True     filter      False        257 [319, 576, 833, 1090, 1347, 1604, 1861, 2118, 2375, 2632]\n",
      "      True    channel       True        256 [259, 515, 771, 1027, 1283, 1539, 1795, 2051, 2307, 2563]\n",
      "      True    channel      False        256 [259, 515, 771, 1027, 1283, 1539, 1795, 2051, 2307, 2563]\n",
      "     False     filter       True        128 [151, 279, 407, 535, 663, 791, 919, 1047, 1175, 1303]\n",
      "     False     filter      False        145 [151, 296, 441, 586, 731, 876, 1021, 1166, 1311, 1456]\n",
      "     False    channel       True        128 [139, 267, 395, 523, 651, 779, 907, 1035, 1163, 1291]\n",
      "     False    channel      False        128 [139, 267, 395, 523, 651, 779, 907, 1035, 1163, 1291]\n"
     ]
    }
   ],
   "source": [
    "def depthwise_tick_to_state(tick, H, W, C, F=None, seq=None):\n",
    "    n = int(math.floor(tick / (H * W * C)))\n",
    "    tick -= n * H * W * C\n",
    "    c = int(math.floor(tick / (H * W)))\n",
    "    h = int(math.floor((tick - c * H * W) / W))\n",
    "    w = int(tick - c * H * W - h * W)\n",
    "    return c, h, w\n",
    "\n",
    "def pointwise_tick_to_state(tick, H, W, C, F, seq):\n",
    "    n = int(math.floor(tick / (H * W * C * F)))\n",
    "    tick -= n * H * W * C * F\n",
    "    if seq == \"filter\":\n",
    "        f = int(math.floor(tick / (H * W * C)))\n",
    "        tick = int(tick - f * H * W * C)\n",
    "        c = int(math.floor(tick / (H * W)))\n",
    "        tick = int(tick - c * H * W)\n",
    "    elif seq == \"channel\":\n",
    "        c = int(math.floor(tick / (F * H * W)))\n",
    "        tick = int(tick - c * H * W * F)\n",
    "        f = int(math.floor(tick / (H * W)))\n",
    "        tick = int(tick - f * H * W)\n",
    "    h = int(math.floor(tick / W))\n",
    "    w = int(tick - h * W)\n",
    "    return f, c, h, w\n",
    "\n",
    "def get_depthwise_output_addr(state, next_seq, H, W, K, P_W):\n",
    "    k = int(math.floor(K / 2))\n",
    "    c, h, w = state\n",
    "    h = 0 if h < K - 1 else h - K + 1\n",
    "    w = 0 if w * P_W < K - 1 else int((w * P_W - K + 1) / P_W)\n",
    "    return int(c * H * W + h * W + w)\n",
    "    \n",
    "def get_pointwise_input_addr(state, seq, H, W):\n",
    "    f, c, h, w = state\n",
    "    return int(c * H * W + h * W + w)\n",
    "\n",
    "def depthwise_separable_dataflow(N, block, params, seqs, use_double_buffer=True):\n",
    "    t = 0\n",
    "    bts = np.zeros(len(block)) # tick for each block layer\n",
    "    state = np.zeros(len(block))\n",
    "    depth, point = block[0], block[1]\n",
    "    H, W, C, F, K = depth.H, depth.W, depth.C, point.F, depth.K\n",
    "    OH = H - K + 1\n",
    "    OW = W - K + 1\n",
    "    P_W, P_C, P_F = params[depth.name]['P_W'], params[depth.name]['P_C'], params[point.name]['P_F']\n",
    "    buf_num_addr = int(H * W * C / (P_W * P_C))\n",
    "    \n",
    "    # double buffer\n",
    "    # each state is (is_readable, is_writable)\n",
    "    buf_state = np.array([\n",
    "        np.vstack([np.zeros(buf_num_addr), np.ones(buf_num_addr)]).T,\n",
    "        np.vstack([np.zeros(buf_num_addr), np.ones(buf_num_addr)]).T\n",
    "    ], dtype=np.bool)\n",
    "    \n",
    "    read_buf, write_buf = 0, 0\n",
    "    output_points = []\n",
    "    batch = 0\n",
    "    while True:\n",
    "        state = [depthwise_tick_to_state(bts[0], H, int(W/P_W), int(C/P_C)),\n",
    "                 pointwise_tick_to_state(bts[1], OH, int(OW/P_W), int(C/P_C), int(F/P_F), seqs[1])]\n",
    "        output_addr = get_depthwise_output_addr(state[0], seqs[1], OH, int(OW/P_W), K, P_W)\n",
    "        input_addr = get_pointwise_input_addr(state[1], seqs[1], OH, int(OW/P_W))\n",
    "        \n",
    "        # update buffer state\n",
    "        write_buf_state = buf_state[write_buf]\n",
    "        if write_buf_state[output_addr][1]: # writable?\n",
    "            if state[0][1] >= K - 1 and state[0][2] * P_W >= (K + P_W - 2): # result ready?\n",
    "                write_buf_state[output_addr][0] = True # readable\n",
    "                write_buf_state[output_addr][1] = False # not writable\n",
    "                # print(\"WRITE:\", write_buf_state[output_addr])\n",
    "            bts[0] += 1\n",
    "            \n",
    "        read_buf_state = buf_state[read_buf]\n",
    "        if read_buf_state[input_addr][0]: # readable?\n",
    "            # when to release\n",
    "            if state[1][0] == int(F/P_F) - 1: # release?\n",
    "                read_buf_state[input_addr][0] = False # not readable\n",
    "                read_buf_state[input_addr][1] = True # writable\n",
    "                # print(\"READ:\", read_buf_state[input_addr])\n",
    "            bts[1] += 1\n",
    "        \n",
    "        if use_double_buffer:\n",
    "            if state[0][0] == int(C/P_C) - 1 and state[0][1] == int(H) - 1 and state[0][2] == int(W/P_W) - 1:\n",
    "                write_buf = int(1 - write_buf)\n",
    "                \n",
    "            if (state[1][0] == int(F/P_F) - 1 and\n",
    "                state[1][1] == int(C/P_C) - 1 and\n",
    "                state[1][2] == int(OH) - 1 and\n",
    "                state[1][3] == int(OW/P_W) - 1):\n",
    "                read_buf = int(1 - read_buf)\n",
    "                \n",
    "            \n",
    "        if (state[1][0] == int(F/P_F) - 1 and\n",
    "            state[1][1] == int(C/P_C) - 1 and\n",
    "            state[1][2] == int(OH) - 1 and\n",
    "            state[1][3] == int(OW/P_W) - 1):\n",
    "            output_points.append(t)\n",
    "            if batch == N - 1:\n",
    "                break\n",
    "            batch += 1\n",
    "        \n",
    "        # print(batch, bts, state, output_addr, input_addr, write_buf, read_buf)\n",
    "        t += 1\n",
    "    \n",
    "    return output_points\n",
    "\n",
    "seqs = [\"filter\", \"channel\"]\n",
    "use_double_buffer = [True, False]\n",
    "channel_larger = [True, False]\n",
    "for cl, seq, udb in itertools.product(channel_larger, seqs, use_double_buffer):\n",
    "    CC = 16 if cl else 2\n",
    "    FF = 2 if cl else 16 \n",
    "    result = depthwise_separable_dataflow(10, create_depthwise_separable_block(4, 4, CC, FF, 3),\n",
    "                                          {\"conv1\": {\"P_W\": 1, \"P_C\": 1}, \"conv2\": {\"P_W\": 1, \"P_C\": 1, \"P_F\": 1}},\n",
    "                                          [\"filter\", seq],\n",
    "                                          use_double_buffer=udb)\n",
    "    throughput = result[-1] - result[-2]\n",
    "    print(\"%10s %10s %10s %10d %s\" % (cl, seq, udb, throughput, result))"
   ]
  },
  {
   "cell_type": "markdown",
   "metadata": {},
   "source": [
    "### A General Case\n",
    "\n",
    "We use `run_dataflow_sim` to simulate the execution process."
   ]
  },
  {
   "cell_type": "markdown",
   "metadata": {},
   "source": [
    "#### Bottleneck Block Example\n",
    "\n",
    "In this example, we show that for a typical ResNet bottleneck block,\n",
    "`F-C-F` can achieve higher performance."
   ]
  },
  {
   "cell_type": "code",
   "execution_count": 184,
   "metadata": {
    "scrolled": true
   },
   "outputs": [
    {
     "name": "stdout",
     "output_type": "stream",
     "text": [
      "FFF 7.565000e+02      42806 [42804, 85610]\n",
      "FFC 7.565000e+02      34058 [42804, 76862]\n",
      "FCF 1.121000e+03      30482 [45719, 76201]\n",
      "FCC 1.121000e+03      30042 [45499, 75541]\n",
      "CFF 1.148500e+03      39670 [45939, 85609]\n",
      "CFC 1.148500e+03      30922 [45939, 76861]\n",
      "CCF 1.513000e+03      25089 [48854, 73943]\n",
      "CCC 1.513000e+03      25089 [48634, 73723]\n"
     ]
    },
    {
     "data": {
      "text/html": [
       "<div>\n",
       "<style scoped>\n",
       "    .dataframe tbody tr th:only-of-type {\n",
       "        vertical-align: middle;\n",
       "    }\n",
       "\n",
       "    .dataframe tbody tr th {\n",
       "        vertical-align: top;\n",
       "    }\n",
       "\n",
       "    .dataframe thead th {\n",
       "        text-align: right;\n",
       "    }\n",
       "</style>\n",
       "<table border=\"1\" class=\"dataframe\">\n",
       "  <thead>\n",
       "    <tr style=\"text-align: right;\">\n",
       "      <th></th>\n",
       "      <th>SEQ</th>\n",
       "      <th>Cycles</th>\n",
       "      <th>Throughput</th>\n",
       "      <th>IsBufInput</th>\n",
       "      <th>BufferSize</th>\n",
       "    </tr>\n",
       "  </thead>\n",
       "  <tbody>\n",
       "    <tr>\n",
       "      <th>0</th>\n",
       "      <td>FFF</td>\n",
       "      <td>85610</td>\n",
       "      <td>42806</td>\n",
       "      <td>False</td>\n",
       "      <td>756.5</td>\n",
       "    </tr>\n",
       "    <tr>\n",
       "      <th>1</th>\n",
       "      <td>FFC</td>\n",
       "      <td>76862</td>\n",
       "      <td>34058</td>\n",
       "      <td>False</td>\n",
       "      <td>756.5</td>\n",
       "    </tr>\n",
       "    <tr>\n",
       "      <th>2</th>\n",
       "      <td>FCF</td>\n",
       "      <td>76201</td>\n",
       "      <td>30482</td>\n",
       "      <td>False</td>\n",
       "      <td>1121.0</td>\n",
       "    </tr>\n",
       "    <tr>\n",
       "      <th>3</th>\n",
       "      <td>FCC</td>\n",
       "      <td>75541</td>\n",
       "      <td>30042</td>\n",
       "      <td>False</td>\n",
       "      <td>1121.0</td>\n",
       "    </tr>\n",
       "    <tr>\n",
       "      <th>4</th>\n",
       "      <td>CFF</td>\n",
       "      <td>85609</td>\n",
       "      <td>39670</td>\n",
       "      <td>False</td>\n",
       "      <td>1148.5</td>\n",
       "    </tr>\n",
       "    <tr>\n",
       "      <th>5</th>\n",
       "      <td>CFC</td>\n",
       "      <td>76861</td>\n",
       "      <td>30922</td>\n",
       "      <td>False</td>\n",
       "      <td>1148.5</td>\n",
       "    </tr>\n",
       "    <tr>\n",
       "      <th>6</th>\n",
       "      <td>CCF</td>\n",
       "      <td>73943</td>\n",
       "      <td>25089</td>\n",
       "      <td>False</td>\n",
       "      <td>1513.0</td>\n",
       "    </tr>\n",
       "    <tr>\n",
       "      <th>7</th>\n",
       "      <td>CCC</td>\n",
       "      <td>73723</td>\n",
       "      <td>25089</td>\n",
       "      <td>False</td>\n",
       "      <td>1513.0</td>\n",
       "    </tr>\n",
       "  </tbody>\n",
       "</table>\n",
       "</div>"
      ],
      "text/plain": [
       "   SEQ Cycles Throughput IsBufInput  BufferSize\n",
       "0  FFF  85610      42806      False       756.5\n",
       "1  FFC  76862      34058      False       756.5\n",
       "2  FCF  76201      30482      False      1121.0\n",
       "3  FCC  75541      30042      False      1121.0\n",
       "4  CFF  85609      39670      False      1148.5\n",
       "5  CFC  76861      30922      False      1148.5\n",
       "6  CCF  73943      25089      False      1513.0\n",
       "7  CCC  73723      25089      False      1513.0"
      ]
     },
     "execution_count": 184,
     "metadata": {},
     "output_type": "execute_result"
    }
   ],
   "source": [
    "SEQ = [utils.FILTER, utils.CHANNEL]\n",
    "def encode_seq(seq):\n",
    "    return ''.join([s[0].upper() for s in seq])\n",
    "SEQS = list(itertools.product(SEQ, SEQ, SEQ))\n",
    "df = pd.DataFrame(columns=['SEQ', 'Cycles', 'Throughput', 'IsBufInput', 'BufferSize'])\n",
    "\n",
    "P_Ws = [1]\n",
    "P_C0s = [64]\n",
    "P_C1s = [32]\n",
    "P_C2s = [32]\n",
    "P_Fs = [64]\n",
    "PPs = list(itertools.product(P_Ws, P_C0s, P_C1s, P_C2s, P_Fs))\n",
    "\n",
    "blocks = [\n",
    "    create_bottleneck_block(56, 56, 256, 64, 3),\n",
    "]\n",
    "is_buf_input = False\n",
    "for block in blocks:\n",
    "    for seq in SEQS:\n",
    "        for P_W, P_C0, P_C1, P_C2, P_F in PPs:\n",
    "            r = utils.run_dataflow_sim(2,\n",
    "                                   block,\n",
    "                                   {\"conv1\": {\"P_W\": P_W, \"P_C\": P_C0, \"P_F\": P_C1},\n",
    "                                    \"conv2\": {\"P_W\": P_W, \"P_C\": P_C1, \"P_F\": P_C2},\n",
    "                                    \"conv3\": {\"P_W\": P_W, \"P_C\": P_C2, \"P_F\": P_F}},\n",
    "                                   seq,\n",
    "                                   is_buf_input=is_buf_input)\n",
    "\n",
    "            throughput = r[0][-1] - r[0][-2]\n",
    "            buffer_size = r[1] * 32 / 8 / 1024\n",
    "            df = df.append(pd.DataFrame([[encode_seq(seq), r[0][-1], throughput, is_buf_input, buffer_size]],\n",
    "                                        columns=['SEQ', 'Cycles', 'Throughput', 'IsBufInput', 'BufferSize']), ignore_index=True)\n",
    "\n",
    "            print(\"%s %e %10d %s\" % (encode_seq(seq), buffer_size, throughput, r[0]))\n",
    "df"
   ]
  },
  {
   "cell_type": "code",
   "execution_count": 191,
   "metadata": {},
   "outputs": [
    {
     "name": "stdout",
     "output_type": "stream",
     "text": [
      "FFF 3.645000e+02      15461 [15459, 30920]\n",
      "FFC 3.645000e+02      15461 [15459, 30920]\n",
      "FCF 3.645000e+02      12546 [15459, 28005]\n",
      "FCC 3.645000e+02      12546 [15459, 28005]\n",
      "CFF 7.290000e+02      12545 [18374, 30919]\n",
      "CFC 7.290000e+02      12545 [18374, 30919]\n",
      "CCF 7.290000e+02      12544 [18154, 30698]\n",
      "CCC 7.290000e+02      12544 [18154, 30698]\n"
     ]
    },
    {
     "data": {
      "text/html": [
       "<div>\n",
       "<style scoped>\n",
       "    .dataframe tbody tr th:only-of-type {\n",
       "        vertical-align: middle;\n",
       "    }\n",
       "\n",
       "    .dataframe tbody tr th {\n",
       "        vertical-align: top;\n",
       "    }\n",
       "\n",
       "    .dataframe thead th {\n",
       "        text-align: right;\n",
       "    }\n",
       "</style>\n",
       "<table border=\"1\" class=\"dataframe\">\n",
       "  <thead>\n",
       "    <tr style=\"text-align: right;\">\n",
       "      <th></th>\n",
       "      <th>SEQ</th>\n",
       "      <th>Cycles</th>\n",
       "      <th>Throughput</th>\n",
       "      <th>IsBufInput</th>\n",
       "      <th>BufferSize</th>\n",
       "    </tr>\n",
       "  </thead>\n",
       "  <tbody>\n",
       "    <tr>\n",
       "      <th>0</th>\n",
       "      <td>FFF</td>\n",
       "      <td>30920</td>\n",
       "      <td>15461</td>\n",
       "      <td>False</td>\n",
       "      <td>364.5</td>\n",
       "    </tr>\n",
       "    <tr>\n",
       "      <th>1</th>\n",
       "      <td>FFC</td>\n",
       "      <td>30920</td>\n",
       "      <td>15461</td>\n",
       "      <td>False</td>\n",
       "      <td>364.5</td>\n",
       "    </tr>\n",
       "    <tr>\n",
       "      <th>2</th>\n",
       "      <td>FCF</td>\n",
       "      <td>28005</td>\n",
       "      <td>12546</td>\n",
       "      <td>False</td>\n",
       "      <td>364.5</td>\n",
       "    </tr>\n",
       "    <tr>\n",
       "      <th>3</th>\n",
       "      <td>FCC</td>\n",
       "      <td>28005</td>\n",
       "      <td>12546</td>\n",
       "      <td>False</td>\n",
       "      <td>364.5</td>\n",
       "    </tr>\n",
       "    <tr>\n",
       "      <th>4</th>\n",
       "      <td>CFF</td>\n",
       "      <td>30919</td>\n",
       "      <td>12545</td>\n",
       "      <td>False</td>\n",
       "      <td>729.0</td>\n",
       "    </tr>\n",
       "    <tr>\n",
       "      <th>5</th>\n",
       "      <td>CFC</td>\n",
       "      <td>30919</td>\n",
       "      <td>12545</td>\n",
       "      <td>False</td>\n",
       "      <td>729.0</td>\n",
       "    </tr>\n",
       "    <tr>\n",
       "      <th>6</th>\n",
       "      <td>CCF</td>\n",
       "      <td>30698</td>\n",
       "      <td>12544</td>\n",
       "      <td>False</td>\n",
       "      <td>729.0</td>\n",
       "    </tr>\n",
       "    <tr>\n",
       "      <th>7</th>\n",
       "      <td>CCC</td>\n",
       "      <td>30698</td>\n",
       "      <td>12544</td>\n",
       "      <td>False</td>\n",
       "      <td>729.0</td>\n",
       "    </tr>\n",
       "  </tbody>\n",
       "</table>\n",
       "</div>"
      ],
      "text/plain": [
       "   SEQ Cycles Throughput IsBufInput  BufferSize\n",
       "0  FFF  30920      15461      False       364.5\n",
       "1  FFC  30920      15461      False       364.5\n",
       "2  FCF  28005      12546      False       364.5\n",
       "3  FCC  28005      12546      False       364.5\n",
       "4  CFF  30919      12545      False       729.0\n",
       "5  CFC  30919      12545      False       729.0\n",
       "6  CCF  30698      12544      False       729.0\n",
       "7  CCC  30698      12544      False       729.0"
      ]
     },
     "execution_count": 191,
     "metadata": {},
     "output_type": "execute_result"
    }
   ],
   "source": [
    "SEQ = [utils.FILTER, utils.CHANNEL]\n",
    "def encode_seq(seq):\n",
    "    return ''.join([s[0].upper() for s in seq])\n",
    "SEQS = list(itertools.product(SEQ, SEQ, SEQ))\n",
    "df = pd.DataFrame(columns=['SEQ', 'Cycles', 'Throughput', 'IsBufInput', 'BufferSize'])\n",
    "\n",
    "P_Ws = [1]\n",
    "P_C0s = [32]\n",
    "P_C1s = [32]\n",
    "P_Fs = [32]\n",
    "PPs = list(itertools.product(P_Ws, P_C0s, P_C1s, P_Fs))\n",
    "\n",
    "blocks = [\n",
    "    create_stacked_block(56, 56, 64, 3)\n",
    "]\n",
    "is_buf_input = False\n",
    "for block in blocks:\n",
    "    for seq in SEQS:\n",
    "        for P_W, P_C0, P_C1, P_F in PPs:\n",
    "            r = utils.run_dataflow_sim(2,\n",
    "                                   block,\n",
    "                                   {\"conv1\": {\"P_W\": P_W, \"P_C\": P_C0, \"P_F\": P_C1},\n",
    "                                    \"conv2\": {\"P_W\": P_W, \"P_C\": P_C1, \"P_F\": P_F}},\n",
    "                                   seq,\n",
    "                                   is_buf_input=is_buf_input)\n",
    "\n",
    "            throughput = r[0][-1] - r[0][-2]\n",
    "            buffer_size = r[1] * 32 / 8 / 1024\n",
    "            df = df.append(pd.DataFrame([[encode_seq(seq), r[0][-1], throughput, is_buf_input, buffer_size]],\n",
    "                                        columns=['SEQ', 'Cycles', 'Throughput', 'IsBufInput', 'BufferSize']), ignore_index=True)\n",
    "\n",
    "            print(\"%s %e %10d %s\" % (encode_seq(seq), buffer_size, throughput, r[0]))\n",
    "df"
   ]
  },
  {
   "cell_type": "code",
   "execution_count": 185,
   "metadata": {},
   "outputs": [
    {
     "data": {
      "image/png": "[encoded data removed]",
      "text/plain": [
       "<Figure size 576x216 with 2 Axes>"
      ]
     },
     "metadata": {},
     "output_type": "display_data"
    }
   ],
   "source": [
    "fig, ax = plt.subplots(1, 2, figsize=(8, 3), sharey=True)\n",
    "\n",
    "for i, is_buf_input in enumerate([True]):\n",
    "    curr_df = df[df['IsBufInput'] == is_buf_input]\n",
    "\n",
    "    xss = []\n",
    "    yss = []\n",
    "    for seq in SEQS:\n",
    "        s = encode_seq(seq)\n",
    "        xss.append(curr_df[curr_df['SEQ'] == s]['BufferSize'].tolist())\n",
    "        yss.append(curr_df[curr_df['SEQ'] == s]['Cycles'].tolist())\n",
    "\n",
    "    for idx in range(len(SEQS)):\n",
    "        ax[i].scatter(xss[idx], yss[idx], label=encode_seq(SEQS[idx]))\n",
    "    ax[i].set_xlabel('Buffer size (KB)')\n",
    "    if i == 0:\n",
    "        ax[i].set_ylabel('Number of cycles')\n",
    "        ax[i].set_yscale('log')\n",
    "    ax[i].set_title('%s Buffer' % ('Input' if is_buf_input else 'Output'))\n",
    "\n",
    "fig.legend(labels=[encode_seq(s) for s in SEQS], loc=7)\n",
    "fig.tight_layout()\n",
    "fig.subplots_adjust(right=0.85)\n",
    "fig.savefig('')"
   ]
  },
  {
   "cell_type": "code",
   "execution_count": null,
   "metadata": {},
   "outputs": [],
   "source": []
  }
 ],
 "metadata": {
  "kernelspec": {
   "display_name": "Python 3",
   "language": "python",
   "name": "python3"
  },
  "language_info": {
   "codemirror_mode": {
    "name": "ipython",
    "version": 3
   },
   "file_extension": ".py",
   "mimetype": "text/x-python",
   "name": "python",
   "nbconvert_exporter": "python",
   "pygments_lexer": "ipython3",
   "version": "3.6.3"
  }
 },
 "nbformat": 4,
 "nbformat_minor": 2
}
