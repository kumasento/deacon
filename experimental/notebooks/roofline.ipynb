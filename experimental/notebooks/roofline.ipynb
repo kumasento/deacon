{
 "cells": [
  {
   "cell_type": "markdown",
   "metadata": {},
   "source": [
    "# Roofline Analysis of the Fused Layers"
   ]
  },
  {
   "cell_type": "code",
   "execution_count": 1,
   "metadata": {},
   "outputs": [],
   "source": [
    "%matplotlib inline\n",
    "%load_ext autoreload\n",
    "%autoreload 2"
   ]
  },
  {
   "cell_type": "code",
   "execution_count": 81,
   "metadata": {},
   "outputs": [],
   "source": [
    "import matplotlib.pyplot as plt\n",
    "import numpy as np\n",
    "import pandas as pd\n",
    "import scipy\n",
    "\n",
    "from collections import OrderedDict"
   ]
  },
  {
   "cell_type": "markdown",
   "metadata": {},
   "source": [
    "## Bottleneck Layer"
   ]
  },
  {
   "cell_type": "code",
   "execution_count": 119,
   "metadata": {},
   "outputs": [],
   "source": [
    "# configuration\n",
    "H, W, C1, C2, F, K = 28, 28, 256, 64, 256, 3\n",
    "max_DSP = 1963 # one DSP can perform 2 multiplications\n",
    "FREQ = 200"
   ]
  },
  {
   "cell_type": "code",
   "execution_count": 120,
   "metadata": {},
   "outputs": [
    {
     "data": {
      "text/plain": [
       "(785.2, 3140.8)"
      ]
     },
     "execution_count": 120,
     "metadata": {},
     "output_type": "execute_result"
    }
   ],
   "source": [
    "# pointwise compute roof\n",
    "conv_roof = max_DSP * 2 * FREQ * 1e-3\n",
    "wino_roof = max_DSP * 2 * ((K ** 2) * 16 / 36) * FREQ * 1e-3\n",
    "conv_roof, wino_roof"
   ]
  },
  {
   "cell_type": "code",
   "execution_count": 121,
   "metadata": {},
   "outputs": [],
   "source": [
    "def solve(f, max_DSP):\n",
    "    p_star = 0.0\n",
    "    DSP_star = None\n",
    "    for x in np.arange(max_DSP + 1):\n",
    "        for y in np.arange(max_DSP + 1 - x):\n",
    "            z = max_DSP - x - y\n",
    "            if x > 0 and y > 0 and z > 0:\n",
    "                p = f([x, y, z])\n",
    "                if p > p_star:\n",
    "                    p_star = p\n",
    "                    DSP_star = [x, y, z]\n",
    "    return p_star * 1e-9, DSP_star"
   ]
  },
  {
   "cell_type": "markdown",
   "metadata": {},
   "source": [
    "### Bottleneck"
   ]
  },
  {
   "cell_type": "code",
   "execution_count": 131,
   "metadata": {},
   "outputs": [
    {
     "name": "stdout",
     "output_type": "stream",
     "text": [
      "(544.8326059268065, [1122, 1682, 1122])\n",
      "CPU times: user 14.8 s, sys: 3.14 ms, total: 14.8 s\n",
      "Wall time: 14.8 s\n"
     ]
    }
   ],
   "source": [
    "%%time\n",
    "# fused conventional roof\n",
    "f = lambda DSP: ((2 * H * W * (C1 * C2 + C2 * C2 * K * K + C2 * F)) / \n",
    "                 (((H * W * C1 * C2) / DSP[0] +\n",
    "                   (H * W * C2 * C2 * K * K) / DSP[1] +\n",
    "                   (H * W * C2 * F) / DSP[2]) * (1./FREQ * 1e-6)))\n",
    "print(solve(f, max_DSP * 2))"
   ]
  },
  {
   "cell_type": "code",
   "execution_count": 132,
   "metadata": {},
   "outputs": [
    {
     "name": "stdout",
     "output_type": "stream",
     "text": [
      "(2604.3999999999996, [1532, 862, 1532])\n",
      "CPU times: user 30.4 s, sys: 1.49 ms, total: 30.4 s\n",
      "Wall time: 30.4 s\n"
     ]
    }
   ],
   "source": [
    "%%time\n",
    "# fused winograd roof\n",
    "f = lambda DSP: ((2 * H * W * (C1 * C2 + C2 * C2 * K * K + C2 * F)) / \n",
    "                 (max((H * W * C1 * C2) / DSP[0],\n",
    "                      (H * W * C2 * C2 * 2.25) / DSP[1],\n",
    "                      (H * W * C2 * F) / DSP[2]) * (1./FREQ * 1e-6)))\n",
    "print(solve(f, max_DSP * 2))"
   ]
  },
  {
   "cell_type": "code",
   "execution_count": 124,
   "metadata": {},
   "outputs": [
    {
     "data": {
      "text/plain": [
       "2604.5658536585365"
      ]
     },
     "execution_count": 124,
     "metadata": {},
     "output_type": "execute_result"
    }
   ],
   "source": [
    "wino_blk_roof = (((2 * H * W * (C1 * C2 + C2 * C2 * K * K + C2 * F)) /\n",
    "                  (H * W * (C1 * C2 + C2 * C2 * 2.25 + C2 * F))) * max_DSP * 2 * FREQ * 1e-3)\n",
    "wino_blk_roof"
   ]
  },
  {
   "cell_type": "markdown",
   "metadata": {},
   "source": [
    "### Depthwise Separable"
   ]
  },
  {
   "cell_type": "code",
   "execution_count": 125,
   "metadata": {},
   "outputs": [
    {
     "name": "stdout",
     "output_type": "stream",
     "text": [
      "(1610.7031249999998, [35, 3890, 1])\n",
      "CPU times: user 27.2 s, sys: 3.03 ms, total: 27.2 s\n",
      "Wall time: 27.2 s\n"
     ]
    }
   ],
   "source": [
    "%%time\n",
    "# fused conventional roof\n",
    "f = lambda DSP: ((2 * H * W * (C2 * K * K + C2 * C1)) / \n",
    "                 (max((H * W * C1 * C2) / DSP[1],\n",
    "                      (H * W * C2 * 2.25) / DSP[0]) * (1./FREQ * 1e-6)))\n",
    "print(solve(f, max_DSP * 2))"
   ]
  },
  {
   "cell_type": "code",
   "execution_count": 126,
   "metadata": {},
   "outputs": [
    {
     "data": {
      "text/plain": [
       "1611.4462729912873"
      ]
     },
     "execution_count": 126,
     "metadata": {},
     "output_type": "execute_result"
    }
   ],
   "source": [
    "wino_blk_roof = (((2 * H * W * (C1 * C2 + C2 * K * K)) /\n",
    "                  (H * W * (C1 * C2 + C2 * 2.25))) * max_DSP * 2 * FREQ * 1e-3)\n",
    "wino_blk_roof"
   ]
  },
  {
   "cell_type": "markdown",
   "metadata": {},
   "source": [
    "### Separable Bottleneck"
   ]
  },
  {
   "cell_type": "code",
   "execution_count": 127,
   "metadata": {},
   "outputs": [
    {
     "name": "stdout",
     "output_type": "stream",
     "text": [
      "(1590.6781250000001, [1954, 18, 1954])\n",
      "CPU times: user 30 s, sys: 0 ns, total: 30 s\n",
      "Wall time: 30 s\n"
     ]
    }
   ],
   "source": [
    "%%time\n",
    "f = lambda DSP: ((2 * H * W * (C1 * C2 + C2 * K * K + C2 * F)) / \n",
    "                 (max((H * W * C1 * C2) / DSP[0],\n",
    "                      (H * W * C2 * 2.25) / DSP[1],\n",
    "                      (H * W * C2 * F) / DSP[2]) * (1./FREQ * 1e-6)))\n",
    "print(solve(f, max_DSP * 2))"
   ]
  },
  {
   "cell_type": "code",
   "execution_count": 128,
   "metadata": {},
   "outputs": [
    {
     "data": {
      "text/plain": [
       "1591.0129314535732"
      ]
     },
     "execution_count": 128,
     "metadata": {},
     "output_type": "execute_result"
    }
   ],
   "source": [
    "wino_blk_roof = (((2 * H * W * (C1 * C2 + C2 * K * K + C2 * F)) /\n",
    "                  (H * W * (C1 * C2 + C2 * 2.25 + C2 * F))) * max_DSP * 2 * FREQ * 1e-3)\n",
    "wino_blk_roof"
   ]
  },
  {
   "cell_type": "code",
   "execution_count": 129,
   "metadata": {},
   "outputs": [
    {
     "data": {
      "text/plain": [
       "OrderedDict([('pointwise', 48.06130268199234),\n",
       "             ('standard', 210.62686567164178),\n",
       "             ('depthwise', 2.98287888395688),\n",
       "             ('dwsp_orig', 36.113332174517645),\n",
       "             ('dwsp_fuse', 49.643966547192356),\n",
       "             ('btnk_orig', 81.26829268292683),\n",
       "             ('btnk_fuse', 115.89565217391305),\n",
       "             ('spnk_orig', 41.13848323093967),\n",
       "             ('spnk_fuse', 60.130133961430886)])"
      ]
     },
     "execution_count": 129,
     "metadata": {},
     "output_type": "execute_result"
    }
   ],
   "source": [
    "# CTC of not fused\n",
    "CTC = OrderedDict({\n",
    "    'pointwise': ((2 * H * W * C1 * C2) /\n",
    "                  ((H * W * (C1 + C2) + C1 * C2) * 2)),\n",
    "    'standard': ((2 * H * W * C2 * C2 * K * K) /\n",
    "                 ((H * W * C2 * 2 + C2 * C2 * K * K) * 2)),\n",
    "    'depthwise': ((2 * H * W * C2 * K * 2) /\n",
    "                  ((H * W * C2 * 2 + C2 * K * K) * 2)),\n",
    "    \n",
    "    # depthwise separable\n",
    "    'dwsp_orig': ((2 * H * W * (C2 * K * K + C2 * C1)) /\n",
    "                  (((2 * H * W * C2 + C2 * K * K) +\n",
    "                    (H * W * (C1 + C2) + C1 * C2)) * 2)),\n",
    "    'dwsp_fuse': ((2 * H * W * (C2 * K * K + C2 * C1)) /\n",
    "                  ((H * W * (C1 + C2) + C2 * K * K + C1 * C2) * 2)),\n",
    "    \n",
    "    # bottlenecks\n",
    "    'btnk_orig': ((2 * H * W * (C1 * C2 + C2 * C2 * K * K + C2 * F)) /\n",
    "                  (((H * W * (C1 + C2) + C1 * C2) +\n",
    "                    (2 * H * W * C2 + K * K * C2 * C2) +\n",
    "                    (H * W * (C2 + F) + C2 * F)) * 2)),\n",
    "    'btnk_fuse': ((2 * H * W * (C1 * C2 + C2 * C2 * K * K + C2 * F)) /\n",
    "                  (((H * W * (C1 + F) + \n",
    "                    C1 * C2 + K * K * C2 * C2 + C2 * F)) * 2)),\n",
    "    \n",
    "    # separable bottleneck\n",
    "    'spnk_orig': ((2 * H * W * (C1 * C2 + C2 * K * K + C2 * F)) /\n",
    "                  (((H * W * (C1 + C2) + C1 * C2) +\n",
    "                    (2 * H * W * C2 + K * K * C2) +\n",
    "                    (H * W * (C2 + F) + C2 * F)) * 2)),\n",
    "    'spnk_fuse': ((2 * H * W * (C1 * C2 + C2 * K * K + C2 * F)) /\n",
    "                  ((H * W * (C1 + F) + \n",
    "                    C1 * C2 + K * K * C2 + C2 * F) * 2))\n",
    "})\n",
    "\n",
    "CTC"
   ]
  },
  {
   "cell_type": "code",
   "execution_count": 130,
   "metadata": {},
   "outputs": [
    {
     "data": {
      "image/png": "[encoded data removed]",
      "text/plain": [
       "<Figure size 432x288 with 1 Axes>"
      ]
     },
     "metadata": {},
     "output_type": "display_data"
    }
   ],
   "source": [
    "fig, ax = plt.subplots()\n",
    "\n",
    "ylim = [0, 4000]\n",
    "xlim = [0, 500]\n",
    "bandwidth = 4.5\n",
    "bandwidth_xs = np.arange(xlim[1] + 1)\n",
    "bandwidth_ys = bandwidth_xs * bandwidth\n",
    "\n",
    "ax.axhline(conv_roof, color='r')\n",
    "ax.axhline(wino_roof, color='r')\n",
    "ax.plot(bandwidth_xs, bandwidth_ys, 'r')\n",
    "ax.axvline(CTC_orig_blk, linestyle=':')\n",
    "ax.axvline(CTC_wino_blk, linestyle=':')\n",
    "ax.axvline(CTC_point, linestyle=':')\n",
    "ax.axvline(CTC_wino, linestyle=':')\n",
    "ax.axvline(CTC_conv, linestyle=':')\n",
    "\n",
    "ax.set_xlim(xlim)\n",
    "ax.set_ylim(ylim)\n",
    "\n",
    "fig.savefig('fused_roofline.pdf')"
   ]
  },
  {
   "cell_type": "code",
   "execution_count": null,
   "metadata": {},
   "outputs": [],
   "source": []
  }
 ],
 "metadata": {
  "kernelspec": {
   "display_name": "Python 3",
   "language": "python",
   "name": "python3"
  },
  "language_info": {
   "codemirror_mode": {
    "name": "ipython",
    "version": 3
   },
   "file_extension": ".py",
   "mimetype": "text/x-python",
   "name": "python",
   "nbconvert_exporter": "python",
   "pygments_lexer": "ipython3",
   "version": "3.6.3"
  }
 },
 "nbformat": 4,
 "nbformat_minor": 2
}
