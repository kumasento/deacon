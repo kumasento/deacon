{
 "cells": [
  {
   "cell_type": "code",
   "execution_count": 21,
   "metadata": {},
   "outputs": [],
   "source": [
    "from typing import Any, Dict, List, Tuple\n",
    "\n",
    "import pyomo.environ as pyo\n",
    "from pyomo.util.infeasible import log_infeasible_constraints\n",
    "\n",
    "\n",
    "import toml"
   ]
  },
  {
   "cell_type": "code",
   "execution_count": 3,
   "metadata": {},
   "outputs": [],
   "source": [
    "def get_dsp_usage(PC, PF, cfg: Dict, name: str, board_cfg: Dict):\n",
    "    \"\"\"Calculate the DSP usage of a single layer.\"\"\"\n",
    "    layer_cfg = cfg[\"layers\"][name]\n",
    "    layer_type = layer_cfg[\"TYPE\"]\n",
    "    K = layer_cfg[\"K\"]\n",
    "    dsp_key = f\"b{cfg['global']['BW']}w{cfg['global']['WBW']}\"\n",
    "\n",
    "    if K == 3:\n",
    "        if layer_type == \"STANDARD\":\n",
    "            return board_cfg[dsp_key][\"STANDARD_3x3_DSP\"] * PC * PF\n",
    "        if layer_type == \"DEPTHWISE_SEPARABLE\":\n",
    "            return (\n",
    "                board_cfg[dsp_key][\"DEPTHWISE_3x3_DSP\"] * PC\n",
    "                + board_cfg[dsp_key][\"POINTWISE_DSP\"] * PC * PF\n",
    "            )\n",
    "        assert False\n",
    "    assert False\n",
    "\n",
    "\n",
    "def get_non_negative_divisible(N: int) -> List[int]:\n",
    "    return [x for x in range(1, N) if N % x == 0]\n",
    "\n",
    "\n",
    "def get_par_binaries_and_sum(\n",
    "    model: Any, key: str, layer_name: str, layer_cfg: Dict\n",
    ") -> Tuple[List[Any], Any]:\n",
    "    ps = []\n",
    "    pbs = []\n",
    "    for i in get_non_negative_divisible(layer_cfg[key[1:]]):\n",
    "        model.add_component(f\"{layer_name}_{key}_{i}\", pyo.Var(within=pyo.Binary))\n",
    "        pbs.append(getattr(model, f\"{layer_name}_{key}_{i}\"))\n",
    "        ps.append(pbs[-1] * i)\n",
    "    p = sum(ps)\n",
    "\n",
    "    return pbs, p\n",
    "\n",
    "def get_cycles(PCs, PFs, cfg: Dict, name: str):\n",
    "    layer_cfg = cfg[\"layers\"][name]\n",
    "    layer_type = layer_cfg[\"TYPE\"]\n",
    "    H = layer_cfg[\"H\"]\n",
    "    W = layer_cfg[\"W\"]\n",
    "    C = layer_cfg[\"C\"]\n",
    "    F = layer_cfg[\"F\"]\n",
    "\n",
    "    PC_divs = get_non_negative_divisible(C)\n",
    "    PF_divs = get_non_negative_divisible(F)\n",
    "\n",
    "    if layer_type == \"STANDARD\" or layer_type == \"DEPTHWISE_SEPARABLE\":\n",
    "        return H * W * sum([x * C / y for x, y in zip(PCs, PC_divs)]) * sum([x * C / y for x, y in zip(PFs, PF_divs)]) \n",
    "    assert False\n"
   ]
  },
  {
   "cell_type": "code",
   "execution_count": 4,
   "metadata": {},
   "outputs": [],
   "source": [
    "cfg = toml.load('../configs/mobilenet-v1.toml')\n",
    "board_cfg = toml.load('../configs/vu9p.toml')"
   ]
  },
  {
   "cell_type": "code",
   "execution_count": 5,
   "metadata": {},
   "outputs": [
    {
     "data": {
      "text/plain": [
       "['conv0',\n",
       " 'conv1',\n",
       " 'conv2',\n",
       " 'conv3',\n",
       " 'conv4',\n",
       " 'conv5',\n",
       " 'conv6',\n",
       " 'conv7',\n",
       " 'conv8',\n",
       " 'conv9',\n",
       " 'conv10',\n",
       " 'conv11',\n",
       " 'conv12',\n",
       " 'conv13']"
      ]
     },
     "execution_count": 5,
     "metadata": {},
     "output_type": "execute_result"
    }
   ],
   "source": [
    "layer_names = list([x for x in cfg[\"layers\"]])\n",
    "layer_names"
   ]
  },
  {
   "cell_type": "code",
   "execution_count": 6,
   "metadata": {},
   "outputs": [],
   "source": [
    "for i, layer_name in enumerate(cfg['layers']):\n",
    "    if i > 0:\n",
    "        if 'INPUT' not in cfg['layers'][layer_name]:\n",
    "            cfg['layers'][layer_name]['INPUT'] = []\n",
    "        if not cfg['layers'][layer_name]['INPUT']:\n",
    "            cfg['layers'][layer_name]['INPUT'].append(layer_names[i-1])"
   ]
  },
  {
   "cell_type": "code",
   "execution_count": 55,
   "metadata": {},
   "outputs": [
    {
     "name": "stdout",
     "output_type": "stream",
     "text": [
      "dsp_usage_cst : Size=1\n",
      "    Key  : Lower : Body : Upper\n",
      "    None :  None : None : 5472.0\n",
      "INFO: ---Starting MindtPy---\n",
      "INFO: Original model has 16 constraints (1 nonlinear) and 0 disjunctions, with\n",
      "    116 variables, of which 116 are binary, 0 are integer, and 0 are\n",
      "    continuous.\n",
      "INFO: Objective is nonlinear. Moving it to constraint set.\n",
      "INFO: rNLP is the initial strategy being used.\n",
      "INFO: Relaxed NLP: Solve relaxed integrality\n",
      "INFO: Relaxed NLP: OBJ: 1776389.7064099242  LB: -inf  UB: inf  TIME:0.99s\n",
      "INFO: ---MindtPy main Iteration 1---\n",
      "INFO: MIP 1: Solve main problem.\n",
      "INFO: MIP 1: OBJ: 1820447.98835222  LB: 1820447.98835222  UB: inf  TIME: 1.21s\n",
      "INFO: Fixed-NLP 1: Solve subproblem for fixed integers.\n",
      "INFO: Fixed-NLP 1: OBJ: 1820447.9999999925  LB: 1820447.98835222  UB:\n",
      "    1820447.9999999925  TIME: 1.35s\n",
      "INFO: MindtPy exiting on bound convergence. (UB: 1820447.9999999925 - LB:\n",
      "    1820447.98835222)/ (1e-10+|bestinteger|:1820447.9999999925) <= relative\n",
      "    tolerance: 0.001\n",
      "OBJ : Size=1, Index=None, Active=True\n",
      "    Key  : Active : Value\n",
      "    None :   True : 1820448.0\n"
     ]
    }
   ],
   "source": [
    "model = pyo.ConcreteModel()\n",
    "\n",
    "dsp_usages = []\n",
    "cycles = []\n",
    "diffs = []\n",
    "PF_map = {}\n",
    "for i, layer_name in enumerate(cfg[\"layers\"]):\n",
    "    layer_cfg = cfg[\"layers\"][layer_name]\n",
    "    if i == 0:\n",
    "        PCs, PC = get_par_binaries_and_sum(model, \"PC\", layer_name, layer_cfg)\n",
    "        model.add_component(f\"{layer_name}_PC\", pyo.Constraint(expr=sum(PCs) == 1))\n",
    "    else:\n",
    "        PCs, PC = PF_map[layer_cfg['INPUT'][0]]\n",
    "\n",
    "    PFs, PF = get_par_binaries_and_sum(model, \"PF\", layer_name, layer_cfg)\n",
    "    PF_map[layer_name] = PFs, PF\n",
    "\n",
    "    model.add_component(f\"{layer_name}_PF\", pyo.Constraint(expr=sum(PFs) == 1))\n",
    "\n",
    "    dsp_usages.append(\n",
    "        get_dsp_usage(PC=PC, PF=PF, cfg=cfg, name=layer_name, board_cfg=board_cfg)\n",
    "    )\n",
    "    cycles.append(get_cycles(PCs=PCs, PFs=PFs, cfg=cfg, name=layer_name))\n",
    "    \n",
    "    # if i % 2 == 1:\n",
    "    #     model.add_component(f\"{layer_name}_abs_cycle_diff\", pyo.Var(within=pyo.NonNegativeIntegers))\n",
    "    #     diffs.append(getattr(model, f\"{layer_name}_abs_cycle_diff\"))\n",
    "    #     model.add_component(f\"{layer_name}_cycle_diff_leq\", pyo.Constraint(expr=- diffs[-1] <= cycles[-1] - cycles[-2]))\n",
    "    #     model.add_component(f\"{layer_name}_cycle_diff_geq\", pyo.Constraint(expr=  diffs[-1] >= cycles[-1] - cycles[-2]))\n",
    "\n",
    "# model.add_component('max_cycle', pyo.Var(within=pyo.NonNegativeIntegers))\n",
    "# for i, cycle in enumerate(cycles):\n",
    "#     model.add_component(f\"lt_max_{i}\", pyo.Constraint(expr=cycle <= model.max_cycle))\n",
    "\n",
    "model.dsp_usage_cst = pyo.Constraint(expr=sum(dsp_usages) <= board_cfg['DSP'] * 0.8)\n",
    "model.dsp_usage_cst.display()\n",
    "# model.OBJ = pyo.Objective(expr=sum(diffs))\n",
    "model.OBJ = pyo.Objective(expr=sum(cycles))\n",
    "# model.OBJ = pyo.Objective(expr=model.max_cycle, sense=pyo.minimize)\n",
    "# model.OBJ = pyo.Objective(expr=model.max_cycle + sum(cycles) / len(cycles), sense=pyo.minimize)\n",
    "# model.OBJ = pyo.Objective(expr = 0)\n",
    "# model.OBJ.pprint()\n",
    "result = pyo.SolverFactory(\"mindtpy\").solve(\n",
    "    model,\n",
    "    # strategy='OA',\n",
    "    time_limit=3600,\n",
    "    mip_solver='glpk',\n",
    "    # mip_solver='cplex_persistent',\n",
    "    # single_tree=True,\n",
    "    nlp_solver='ipopt',\n",
    "    tee=True\n",
    ")\n",
    "model.OBJ.display()"
   ]
  },
  {
   "cell_type": "code",
   "execution_count": 56,
   "metadata": {},
   "outputs": [
    {
     "data": {
      "text/plain": [
       "5328.0"
      ]
     },
     "execution_count": 56,
     "metadata": {},
     "output_type": "execute_result"
    }
   ],
   "source": [
    "pyo.value(model.dsp_usage_cst)"
   ]
  },
  {
   "cell_type": "code",
   "execution_count": 57,
   "metadata": {},
   "outputs": [
    {
     "name": "stdout",
     "output_type": "stream",
     "text": [
      "14112.0\n",
      "100352.0\n",
      "50176.0\n",
      "200704.0\n",
      "50176.0\n",
      "200704.0\n",
      "50176.0\n",
      "200704.0\n",
      "200704.0\n",
      "200704.0\n",
      "200704.0\n",
      "200704.0\n",
      "50176.0\n",
      "100352.0\n"
     ]
    }
   ],
   "source": [
    "for cycle in cycles:\n",
    "    print(pyo.value(cycle))"
   ]
  },
  {
   "cell_type": "code",
   "execution_count": 58,
   "metadata": {},
   "outputs": [
    {
     "name": "stdout",
     "output_type": "stream",
     "text": [
      "8.0\n",
      "16.0\n",
      "16.0\n",
      "16.0\n",
      "16.0\n",
      "16.0\n",
      "16.0\n",
      "16.0\n",
      "16.0\n",
      "16.0\n",
      "16.0\n",
      "16.0\n",
      "16.0\n",
      "32.0\n"
     ]
    }
   ],
   "source": [
    "for PFs, PF in PF_map.values():\n",
    "    print(pyo.value(PF))"
   ]
  },
  {
   "cell_type": "code",
   "execution_count": null,
   "metadata": {},
   "outputs": [],
   "source": []
  }
 ],
 "metadata": {
  "interpreter": {
   "hash": "5cdf208a16c5d4bfe44cf1d5826ce3c6441e94f607b188cd09a930dfa0616adb"
  },
  "kernelspec": {
   "display_name": "Python 3.9.7 64-bit (conda)",
   "language": "python",
   "name": "python3"
  },
  "language_info": {
   "codemirror_mode": {
    "name": "ipython",
    "version": 3
   },
   "file_extension": ".py",
   "mimetype": "text/x-python",
   "name": "python",
   "nbconvert_exporter": "python",
   "pygments_lexer": "ipython3",
   "version": "3.9.7"
  },
  "orig_nbformat": 4
 },
 "nbformat": 4,
 "nbformat_minor": 2
}
